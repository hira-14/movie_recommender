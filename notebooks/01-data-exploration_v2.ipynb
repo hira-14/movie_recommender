{
 "cells": [
  {
   "cell_type": "code",
   "execution_count": 1,
   "id": "2aecef60",
   "metadata": {
    "_cell_guid": "b1076dfc-b9ad-4769-8c92-a6c4dae69d19",
    "_uuid": "8f2839f25d086af736a60e9eeb907d3b93b6e0e5",
    "execution": {
     "iopub.execute_input": "2025-07-05T20:01:07.181912Z",
     "iopub.status.busy": "2025-07-05T20:01:07.181596Z",
     "iopub.status.idle": "2025-07-05T20:01:09.265022Z",
     "shell.execute_reply": "2025-07-05T20:01:09.264000Z"
    },
    "papermill": {
     "duration": 2.094199,
     "end_time": "2025-07-05T20:01:09.266784",
     "exception": false,
     "start_time": "2025-07-05T20:01:07.172585",
     "status": "completed"
    },
    "tags": []
   },
   "outputs": [
    {
     "name": "stdout",
     "output_type": "stream",
     "text": [
      "/kaggle/input/movielens1m/users.dat\n",
      "/kaggle/input/movielens1m/ratings.dat\n",
      "/kaggle/input/movielens1m/movies.dat\n"
     ]
    }
   ],
   "source": [
    "# This Python 3 environment comes with many helpful analytics libraries installed\n",
    "# It is defined by the kaggle/python Docker image: https://github.com/kaggle/docker-python\n",
    "# For example, here's several helpful packages to load\n",
    "\n",
    "import numpy as np # linear algebra\n",
    "import pandas as pd # data processing, CSV file I/O (e.g. pd.read_csv)\n",
    "\n",
    "# Input data files are available in the read-only \"../input/\" directory\n",
    "# For example, running this (by clicking run or pressing Shift+Enter) will list all files under the input directory\n",
    "\n",
    "import os\n",
    "for dirname, _, filenames in os.walk('/kaggle/input'):\n",
    "    for filename in filenames:\n",
    "        print(os.path.join(dirname, filename))\n",
    "\n",
    "# You can write up to 20GB to the current directory (/kaggle/working/) that gets preserved as output when you create a version using \"Save & Run All\" \n",
    "# You can also write temporary files to /kaggle/temp/, but they won't be saved outside of the current session"
   ]
  },
  {
   "cell_type": "code",
   "execution_count": 2,
   "id": "3d25589f",
   "metadata": {
    "execution": {
     "iopub.execute_input": "2025-07-05T20:01:09.282978Z",
     "iopub.status.busy": "2025-07-05T20:01:09.282481Z",
     "iopub.status.idle": "2025-07-05T20:01:27.058556Z",
     "shell.execute_reply": "2025-07-05T20:01:27.057154Z"
    },
    "papermill": {
     "duration": 17.78646,
     "end_time": "2025-07-05T20:01:27.060890",
     "exception": false,
     "start_time": "2025-07-05T20:01:09.274430",
     "status": "completed"
    },
    "tags": []
   },
   "outputs": [
    {
     "name": "stdout",
     "output_type": "stream",
     "text": [
      "Collecting surprise\r\n",
      "  Downloading surprise-0.1-py2.py3-none-any.whl.metadata (327 bytes)\r\n",
      "Collecting lightfm\r\n",
      "  Downloading lightfm-1.17.tar.gz (316 kB)\r\n",
      "\u001b[2K     \u001b[90m━━━━━━━━━━━━━━━━━━━━━━━━━━━━━━━━━━━━━━━━\u001b[0m \u001b[32m316.4/316.4 kB\u001b[0m \u001b[31m5.2 MB/s\u001b[0m eta \u001b[36m0:00:00\u001b[0m\r\n",
      "\u001b[?25h  Preparing metadata (setup.py) ... \u001b[?25l\u001b[?25hdone\r\n",
      "Requirement already satisfied: tqdm in /usr/local/lib/python3.11/dist-packages (4.67.1)\r\n",
      "Requirement already satisfied: scikit-surprise in /usr/local/lib/python3.11/dist-packages (from surprise) (1.1.4)\r\n",
      "Requirement already satisfied: numpy in /usr/local/lib/python3.11/dist-packages (from lightfm) (1.26.4)\r\n",
      "Requirement already satisfied: scipy>=0.17.0 in /usr/local/lib/python3.11/dist-packages (from lightfm) (1.15.2)\r\n",
      "Requirement already satisfied: requests in /usr/local/lib/python3.11/dist-packages (from lightfm) (2.32.3)\r\n",
      "Requirement already satisfied: scikit-learn in /usr/local/lib/python3.11/dist-packages (from lightfm) (1.2.2)\r\n",
      "Requirement already satisfied: mkl_fft in /usr/local/lib/python3.11/dist-packages (from numpy->lightfm) (1.3.8)\r\n",
      "Requirement already satisfied: mkl_random in /usr/local/lib/python3.11/dist-packages (from numpy->lightfm) (1.2.4)\r\n",
      "Requirement already satisfied: mkl_umath in /usr/local/lib/python3.11/dist-packages (from numpy->lightfm) (0.1.1)\r\n",
      "Requirement already satisfied: mkl in /usr/local/lib/python3.11/dist-packages (from numpy->lightfm) (2025.1.0)\r\n",
      "Requirement already satisfied: tbb4py in /usr/local/lib/python3.11/dist-packages (from numpy->lightfm) (2022.1.0)\r\n",
      "Requirement already satisfied: mkl-service in /usr/local/lib/python3.11/dist-packages (from numpy->lightfm) (2.4.1)\r\n",
      "Requirement already satisfied: charset-normalizer<4,>=2 in /usr/local/lib/python3.11/dist-packages (from requests->lightfm) (3.4.2)\r\n",
      "Requirement already satisfied: idna<4,>=2.5 in /usr/local/lib/python3.11/dist-packages (from requests->lightfm) (3.10)\r\n",
      "Requirement already satisfied: urllib3<3,>=1.21.1 in /usr/local/lib/python3.11/dist-packages (from requests->lightfm) (2.4.0)\r\n",
      "Requirement already satisfied: certifi>=2017.4.17 in /usr/local/lib/python3.11/dist-packages (from requests->lightfm) (2025.4.26)\r\n",
      "Requirement already satisfied: joblib>=1.1.1 in /usr/local/lib/python3.11/dist-packages (from scikit-learn->lightfm) (1.5.0)\r\n",
      "Requirement already satisfied: threadpoolctl>=2.0.0 in /usr/local/lib/python3.11/dist-packages (from scikit-learn->lightfm) (3.6.0)\r\n",
      "Requirement already satisfied: intel-openmp<2026,>=2024 in /usr/local/lib/python3.11/dist-packages (from mkl->numpy->lightfm) (2024.2.0)\r\n",
      "Requirement already satisfied: tbb==2022.* in /usr/local/lib/python3.11/dist-packages (from mkl->numpy->lightfm) (2022.1.0)\r\n",
      "Requirement already satisfied: tcmlib==1.* in /usr/local/lib/python3.11/dist-packages (from tbb==2022.*->mkl->numpy->lightfm) (1.3.0)\r\n",
      "Requirement already satisfied: intel-cmplr-lib-rt in /usr/local/lib/python3.11/dist-packages (from mkl_umath->numpy->lightfm) (2024.2.0)\r\n",
      "Requirement already satisfied: intel-cmplr-lib-ur==2024.2.0 in /usr/local/lib/python3.11/dist-packages (from intel-openmp<2026,>=2024->mkl->numpy->lightfm) (2024.2.0)\r\n",
      "Downloading surprise-0.1-py2.py3-none-any.whl (1.8 kB)\r\n",
      "Building wheels for collected packages: lightfm\r\n",
      "  Building wheel for lightfm (setup.py) ... \u001b[?25l\u001b[?25hdone\r\n",
      "  Created wheel for lightfm: filename=lightfm-1.17-cp311-cp311-linux_x86_64.whl size=831166 sha256=6ec6b7c8583bfe6211d8a22cd72d221b404d815ae2908e9917ad3db0a0a1e5f4\r\n",
      "  Stored in directory: /root/.cache/pip/wheels/b9/0d/8a/0729d2e6e3ca2a898ba55201f905da7db3f838a33df5b3fcdd\r\n",
      "Successfully built lightfm\r\n",
      "Installing collected packages: surprise, lightfm\r\n",
      "Successfully installed lightfm-1.17 surprise-0.1\r\n"
     ]
    }
   ],
   "source": [
    "!pip install surprise lightfm tqdm\n"
   ]
  },
  {
   "cell_type": "code",
   "execution_count": 3,
   "id": "968706c3",
   "metadata": {
    "execution": {
     "iopub.execute_input": "2025-07-05T20:01:27.082377Z",
     "iopub.status.busy": "2025-07-05T20:01:27.081858Z",
     "iopub.status.idle": "2025-07-05T20:01:29.667049Z",
     "shell.execute_reply": "2025-07-05T20:01:29.665968Z"
    },
    "papermill": {
     "duration": 2.59792,
     "end_time": "2025-07-05T20:01:29.669000",
     "exception": false,
     "start_time": "2025-07-05T20:01:27.071080",
     "status": "completed"
    },
    "tags": []
   },
   "outputs": [],
   "source": [
    "import pandas as pd, numpy as np\n",
    "import surprise, lightfm, tqdm\n",
    "import matplotlib.pyplot as plt\n",
    "import seaborn as sns"
   ]
  },
  {
   "cell_type": "code",
   "execution_count": 4,
   "id": "39eaa3cd",
   "metadata": {
    "execution": {
     "iopub.execute_input": "2025-07-05T20:01:29.685700Z",
     "iopub.status.busy": "2025-07-05T20:01:29.685209Z",
     "iopub.status.idle": "2025-07-05T20:01:35.138795Z",
     "shell.execute_reply": "2025-07-05T20:01:35.137784Z"
    },
    "papermill": {
     "duration": 5.463855,
     "end_time": "2025-07-05T20:01:35.140689",
     "exception": false,
     "start_time": "2025-07-05T20:01:29.676834",
     "status": "completed"
    },
    "tags": []
   },
   "outputs": [],
   "source": [
    "ratings = pd.read_csv('/kaggle/input/movielens1m/ratings.dat', \n",
    "                      delimiter='::', engine='python', header=None, names = ['UserID', 'MovieID', 'Rating', 'Timestamp'])\n",
    "\n",
    "users = pd.read_csv('/kaggle/input/movielens1m/users.dat', \n",
    "                    delimiter='::', engine='python', header=None)\n",
    "\n",
    "movies = pd.read_csv('/kaggle/input/movielens1m/movies.dat', \n",
    "                     delimiter='::', engine='python', header=None, \n",
    "                     names=['MovieID', 'Title', 'Genres'],\n",
    "                     encoding='latin-1')  \n"
   ]
  },
  {
   "cell_type": "code",
   "execution_count": 5,
   "id": "8ccd3b7d",
   "metadata": {
    "execution": {
     "iopub.execute_input": "2025-07-05T20:01:35.157640Z",
     "iopub.status.busy": "2025-07-05T20:01:35.157290Z",
     "iopub.status.idle": "2025-07-05T20:01:35.162117Z",
     "shell.execute_reply": "2025-07-05T20:01:35.161221Z"
    },
    "papermill": {
     "duration": 0.015396,
     "end_time": "2025-07-05T20:01:35.164018",
     "exception": false,
     "start_time": "2025-07-05T20:01:35.148622",
     "status": "completed"
    },
    "tags": []
   },
   "outputs": [],
   "source": [
    "users.columns = ['UserID', 'Gender', 'Age', 'Occupation', 'Zip-code']\n"
   ]
  },
  {
   "cell_type": "code",
   "execution_count": 6,
   "id": "e0964d0d",
   "metadata": {
    "execution": {
     "iopub.execute_input": "2025-07-05T20:01:35.180400Z",
     "iopub.status.busy": "2025-07-05T20:01:35.180080Z",
     "iopub.status.idle": "2025-07-05T20:01:35.206248Z",
     "shell.execute_reply": "2025-07-05T20:01:35.205304Z"
    },
    "papermill": {
     "duration": 0.036092,
     "end_time": "2025-07-05T20:01:35.208022",
     "exception": false,
     "start_time": "2025-07-05T20:01:35.171930",
     "status": "completed"
    },
    "tags": []
   },
   "outputs": [
    {
     "data": {
      "text/html": [
       "<div>\n",
       "<style scoped>\n",
       "    .dataframe tbody tr th:only-of-type {\n",
       "        vertical-align: middle;\n",
       "    }\n",
       "\n",
       "    .dataframe tbody tr th {\n",
       "        vertical-align: top;\n",
       "    }\n",
       "\n",
       "    .dataframe thead th {\n",
       "        text-align: right;\n",
       "    }\n",
       "</style>\n",
       "<table border=\"1\" class=\"dataframe\">\n",
       "  <thead>\n",
       "    <tr style=\"text-align: right;\">\n",
       "      <th></th>\n",
       "      <th>UserID</th>\n",
       "      <th>MovieID</th>\n",
       "      <th>Rating</th>\n",
       "      <th>Timestamp</th>\n",
       "    </tr>\n",
       "  </thead>\n",
       "  <tbody>\n",
       "    <tr>\n",
       "      <th>0</th>\n",
       "      <td>1</td>\n",
       "      <td>1193</td>\n",
       "      <td>5</td>\n",
       "      <td>978300760</td>\n",
       "    </tr>\n",
       "    <tr>\n",
       "      <th>1</th>\n",
       "      <td>1</td>\n",
       "      <td>661</td>\n",
       "      <td>3</td>\n",
       "      <td>978302109</td>\n",
       "    </tr>\n",
       "    <tr>\n",
       "      <th>2</th>\n",
       "      <td>1</td>\n",
       "      <td>914</td>\n",
       "      <td>3</td>\n",
       "      <td>978301968</td>\n",
       "    </tr>\n",
       "    <tr>\n",
       "      <th>3</th>\n",
       "      <td>1</td>\n",
       "      <td>3408</td>\n",
       "      <td>4</td>\n",
       "      <td>978300275</td>\n",
       "    </tr>\n",
       "    <tr>\n",
       "      <th>4</th>\n",
       "      <td>1</td>\n",
       "      <td>2355</td>\n",
       "      <td>5</td>\n",
       "      <td>978824291</td>\n",
       "    </tr>\n",
       "  </tbody>\n",
       "</table>\n",
       "</div>"
      ],
      "text/plain": [
       "   UserID  MovieID  Rating  Timestamp\n",
       "0       1     1193       5  978300760\n",
       "1       1      661       3  978302109\n",
       "2       1      914       3  978301968\n",
       "3       1     3408       4  978300275\n",
       "4       1     2355       5  978824291"
      ]
     },
     "execution_count": 6,
     "metadata": {},
     "output_type": "execute_result"
    }
   ],
   "source": [
    "ratings.head()"
   ]
  },
  {
   "cell_type": "code",
   "execution_count": 7,
   "id": "61746d17",
   "metadata": {
    "execution": {
     "iopub.execute_input": "2025-07-05T20:01:35.224615Z",
     "iopub.status.busy": "2025-07-05T20:01:35.224210Z",
     "iopub.status.idle": "2025-07-05T20:01:35.234103Z",
     "shell.execute_reply": "2025-07-05T20:01:35.233106Z"
    },
    "papermill": {
     "duration": 0.019934,
     "end_time": "2025-07-05T20:01:35.235581",
     "exception": false,
     "start_time": "2025-07-05T20:01:35.215647",
     "status": "completed"
    },
    "tags": []
   },
   "outputs": [
    {
     "data": {
      "text/html": [
       "<div>\n",
       "<style scoped>\n",
       "    .dataframe tbody tr th:only-of-type {\n",
       "        vertical-align: middle;\n",
       "    }\n",
       "\n",
       "    .dataframe tbody tr th {\n",
       "        vertical-align: top;\n",
       "    }\n",
       "\n",
       "    .dataframe thead th {\n",
       "        text-align: right;\n",
       "    }\n",
       "</style>\n",
       "<table border=\"1\" class=\"dataframe\">\n",
       "  <thead>\n",
       "    <tr style=\"text-align: right;\">\n",
       "      <th></th>\n",
       "      <th>MovieID</th>\n",
       "      <th>Title</th>\n",
       "      <th>Genres</th>\n",
       "    </tr>\n",
       "  </thead>\n",
       "  <tbody>\n",
       "    <tr>\n",
       "      <th>0</th>\n",
       "      <td>1</td>\n",
       "      <td>Toy Story (1995)</td>\n",
       "      <td>Animation|Children's|Comedy</td>\n",
       "    </tr>\n",
       "    <tr>\n",
       "      <th>1</th>\n",
       "      <td>2</td>\n",
       "      <td>Jumanji (1995)</td>\n",
       "      <td>Adventure|Children's|Fantasy</td>\n",
       "    </tr>\n",
       "    <tr>\n",
       "      <th>2</th>\n",
       "      <td>3</td>\n",
       "      <td>Grumpier Old Men (1995)</td>\n",
       "      <td>Comedy|Romance</td>\n",
       "    </tr>\n",
       "    <tr>\n",
       "      <th>3</th>\n",
       "      <td>4</td>\n",
       "      <td>Waiting to Exhale (1995)</td>\n",
       "      <td>Comedy|Drama</td>\n",
       "    </tr>\n",
       "    <tr>\n",
       "      <th>4</th>\n",
       "      <td>5</td>\n",
       "      <td>Father of the Bride Part II (1995)</td>\n",
       "      <td>Comedy</td>\n",
       "    </tr>\n",
       "  </tbody>\n",
       "</table>\n",
       "</div>"
      ],
      "text/plain": [
       "   MovieID                               Title                        Genres\n",
       "0        1                    Toy Story (1995)   Animation|Children's|Comedy\n",
       "1        2                      Jumanji (1995)  Adventure|Children's|Fantasy\n",
       "2        3             Grumpier Old Men (1995)                Comedy|Romance\n",
       "3        4            Waiting to Exhale (1995)                  Comedy|Drama\n",
       "4        5  Father of the Bride Part II (1995)                        Comedy"
      ]
     },
     "execution_count": 7,
     "metadata": {},
     "output_type": "execute_result"
    }
   ],
   "source": [
    "movies.head()"
   ]
  },
  {
   "cell_type": "code",
   "execution_count": 8,
   "id": "f71dc3aa",
   "metadata": {
    "execution": {
     "iopub.execute_input": "2025-07-05T20:01:35.253011Z",
     "iopub.status.busy": "2025-07-05T20:01:35.252172Z",
     "iopub.status.idle": "2025-07-05T20:01:35.262300Z",
     "shell.execute_reply": "2025-07-05T20:01:35.261062Z"
    },
    "papermill": {
     "duration": 0.020667,
     "end_time": "2025-07-05T20:01:35.264089",
     "exception": false,
     "start_time": "2025-07-05T20:01:35.243422",
     "status": "completed"
    },
    "tags": []
   },
   "outputs": [
    {
     "data": {
      "text/html": [
       "<div>\n",
       "<style scoped>\n",
       "    .dataframe tbody tr th:only-of-type {\n",
       "        vertical-align: middle;\n",
       "    }\n",
       "\n",
       "    .dataframe tbody tr th {\n",
       "        vertical-align: top;\n",
       "    }\n",
       "\n",
       "    .dataframe thead th {\n",
       "        text-align: right;\n",
       "    }\n",
       "</style>\n",
       "<table border=\"1\" class=\"dataframe\">\n",
       "  <thead>\n",
       "    <tr style=\"text-align: right;\">\n",
       "      <th></th>\n",
       "      <th>UserID</th>\n",
       "      <th>Gender</th>\n",
       "      <th>Age</th>\n",
       "      <th>Occupation</th>\n",
       "      <th>Zip-code</th>\n",
       "    </tr>\n",
       "  </thead>\n",
       "  <tbody>\n",
       "    <tr>\n",
       "      <th>0</th>\n",
       "      <td>1</td>\n",
       "      <td>F</td>\n",
       "      <td>1</td>\n",
       "      <td>10</td>\n",
       "      <td>48067</td>\n",
       "    </tr>\n",
       "    <tr>\n",
       "      <th>1</th>\n",
       "      <td>2</td>\n",
       "      <td>M</td>\n",
       "      <td>56</td>\n",
       "      <td>16</td>\n",
       "      <td>70072</td>\n",
       "    </tr>\n",
       "    <tr>\n",
       "      <th>2</th>\n",
       "      <td>3</td>\n",
       "      <td>M</td>\n",
       "      <td>25</td>\n",
       "      <td>15</td>\n",
       "      <td>55117</td>\n",
       "    </tr>\n",
       "    <tr>\n",
       "      <th>3</th>\n",
       "      <td>4</td>\n",
       "      <td>M</td>\n",
       "      <td>45</td>\n",
       "      <td>7</td>\n",
       "      <td>02460</td>\n",
       "    </tr>\n",
       "    <tr>\n",
       "      <th>4</th>\n",
       "      <td>5</td>\n",
       "      <td>M</td>\n",
       "      <td>25</td>\n",
       "      <td>20</td>\n",
       "      <td>55455</td>\n",
       "    </tr>\n",
       "  </tbody>\n",
       "</table>\n",
       "</div>"
      ],
      "text/plain": [
       "   UserID Gender  Age  Occupation Zip-code\n",
       "0       1      F    1          10    48067\n",
       "1       2      M   56          16    70072\n",
       "2       3      M   25          15    55117\n",
       "3       4      M   45           7    02460\n",
       "4       5      M   25          20    55455"
      ]
     },
     "execution_count": 8,
     "metadata": {},
     "output_type": "execute_result"
    }
   ],
   "source": [
    "users.head()"
   ]
  },
  {
   "cell_type": "code",
   "execution_count": 9,
   "id": "1b9ce097",
   "metadata": {
    "execution": {
     "iopub.execute_input": "2025-07-05T20:01:35.283152Z",
     "iopub.status.busy": "2025-07-05T20:01:35.282768Z",
     "iopub.status.idle": "2025-07-05T20:01:35.288674Z",
     "shell.execute_reply": "2025-07-05T20:01:35.287333Z"
    },
    "papermill": {
     "duration": 0.017861,
     "end_time": "2025-07-05T20:01:35.290218",
     "exception": false,
     "start_time": "2025-07-05T20:01:35.272357",
     "status": "completed"
    },
    "tags": []
   },
   "outputs": [
    {
     "name": "stdout",
     "output_type": "stream",
     "text": [
      "Ratings shape: (1000209, 4)\n",
      "Users shape: (6040, 5)\n",
      "Movies shape (3883, 3)\n"
     ]
    }
   ],
   "source": [
    "print(\"Ratings shape:\",ratings.shape)\n",
    "print(\"Users shape:\",users.shape)\n",
    "print(\"Movies shape\",movies.shape)"
   ]
  },
  {
   "cell_type": "code",
   "execution_count": 10,
   "id": "accdf8d5",
   "metadata": {
    "execution": {
     "iopub.execute_input": "2025-07-05T20:01:35.308233Z",
     "iopub.status.busy": "2025-07-05T20:01:35.307900Z",
     "iopub.status.idle": "2025-07-05T20:01:35.333448Z",
     "shell.execute_reply": "2025-07-05T20:01:35.332341Z"
    },
    "papermill": {
     "duration": 0.036445,
     "end_time": "2025-07-05T20:01:35.335405",
     "exception": false,
     "start_time": "2025-07-05T20:01:35.298960",
     "status": "completed"
    },
    "tags": []
   },
   "outputs": [
    {
     "name": "stdout",
     "output_type": "stream",
     "text": [
      "Unique users: 6040\n",
      "Unique movies: 3706\n",
      "Total ratings: 1000209\n"
     ]
    }
   ],
   "source": [
    "n_users = ratings['UserID'].nunique()\n",
    "n_movies = ratings['MovieID'].nunique()\n",
    "\n",
    "print(\"Unique users:\",n_users)\n",
    "print(\"Unique movies:\",n_movies)\n",
    "print(\"Total ratings:\",ratings.shape[0])"
   ]
  },
  {
   "cell_type": "code",
   "execution_count": 11,
   "id": "6851b213",
   "metadata": {
    "execution": {
     "iopub.execute_input": "2025-07-05T20:01:35.352728Z",
     "iopub.status.busy": "2025-07-05T20:01:35.352141Z",
     "iopub.status.idle": "2025-07-05T20:01:35.678978Z",
     "shell.execute_reply": "2025-07-05T20:01:35.677319Z"
    },
    "papermill": {
     "duration": 0.338262,
     "end_time": "2025-07-05T20:01:35.681563",
     "exception": false,
     "start_time": "2025-07-05T20:01:35.343301",
     "status": "completed"
    },
    "tags": []
   },
   "outputs": [
    {
     "data": {
      "image/png": "[encoded data removed]",
      "text/plain": [
       "<Figure size 800x600 with 1 Axes>"
      ]
     },
     "metadata": {},
     "output_type": "display_data"
    }
   ],
   "source": [
    "# Count ratings\n",
    "rating_counts = ratings['Rating'].value_counts().sort_index()\n",
    "\n",
    "# Plot histogram\n",
    "plt.figure(figsize=(8, 6))\n",
    "bars = plt.bar(rating_counts.index, rating_counts.values, width=0.6, alpha=0.8)\n",
    "\n",
    "# Add count labels\n",
    "for i, (x, y) in enumerate(zip(rating_counts.index, rating_counts.values)):\n",
    "    plt.text(x, y + 5000, str(y), ha='center', va='bottom', fontsize=9)\n",
    "\n",
    "# Aesthetics\n",
    "plt.title(\"Rating Distribution\")\n",
    "plt.xlabel(\"Rating\")\n",
    "plt.ylabel(\"Count\")\n",
    "plt.grid(True)\n",
    "plt.xticks(rating_counts.index)  # ensure ticks are only 1 to 5\n",
    "\n",
    "plt.show()"
   ]
  },
  {
   "cell_type": "code",
   "execution_count": 12,
   "id": "bc43334f",
   "metadata": {
    "execution": {
     "iopub.execute_input": "2025-07-05T20:01:35.701567Z",
     "iopub.status.busy": "2025-07-05T20:01:35.701210Z",
     "iopub.status.idle": "2025-07-05T20:01:36.016962Z",
     "shell.execute_reply": "2025-07-05T20:01:36.015767Z"
    },
    "papermill": {
     "duration": 0.327767,
     "end_time": "2025-07-05T20:01:36.018737",
     "exception": false,
     "start_time": "2025-07-05T20:01:35.690970",
     "status": "completed"
    },
    "tags": []
   },
   "outputs": [
    {
     "data": {
      "image/png": "[encoded data removed]",
      "text/plain": [
       "<Figure size 600x400 with 1 Axes>"
      ]
     },
     "metadata": {},
     "output_type": "display_data"
    },
    {
     "name": "stdout",
     "output_type": "stream",
     "text": [
      "Mean rating: 3.581564453029317\n",
      "Median rating: 4.0\n",
      "Mode rating: 4\n"
     ]
    }
   ],
   "source": [
    "plt.figure(figsize=(6,4))\n",
    "ratings['Rating'].hist(bins=5)\n",
    "plt.title('Rating Distribution')\n",
    "plt.xlabel('Rating')\n",
    "plt.ylabel('Count')\n",
    "plt.show()\n",
    "\n",
    "print(\"Mean rating:\", ratings['Rating'].mean())\n",
    "print(\"Median rating:\", ratings['Rating'].median())\n",
    "print(\"Mode rating:\", ratings['Rating'].mode()[0])\n"
   ]
  },
  {
   "cell_type": "markdown",
   "id": "cb5f52e7",
   "metadata": {
    "papermill": {
     "duration": 0.009102,
     "end_time": "2025-07-05T20:01:36.037701",
     "exception": false,
     "start_time": "2025-07-05T20:01:36.028599",
     "status": "completed"
    },
    "tags": []
   },
   "source": [
    "the data is skewed towards the right side."
   ]
  },
  {
   "cell_type": "code",
   "execution_count": 13,
   "id": "a47ecd81",
   "metadata": {
    "execution": {
     "iopub.execute_input": "2025-07-05T20:01:36.056863Z",
     "iopub.status.busy": "2025-07-05T20:01:36.056483Z",
     "iopub.status.idle": "2025-07-05T20:01:36.096069Z",
     "shell.execute_reply": "2025-07-05T20:01:36.094835Z"
    },
    "papermill": {
     "duration": 0.051479,
     "end_time": "2025-07-05T20:01:36.097971",
     "exception": false,
     "start_time": "2025-07-05T20:01:36.046492",
     "status": "completed"
    },
    "tags": []
   },
   "outputs": [
    {
     "data": {
      "text/plain": [
       "count    1.000209e+06\n",
       "mean     3.581564e+00\n",
       "std      1.117102e+00\n",
       "min      1.000000e+00\n",
       "25%      3.000000e+00\n",
       "50%      4.000000e+00\n",
       "75%      4.000000e+00\n",
       "max      5.000000e+00\n",
       "Name: Rating, dtype: float64"
      ]
     },
     "execution_count": 13,
     "metadata": {},
     "output_type": "execute_result"
    }
   ],
   "source": [
    "ratings['Rating'].describe()"
   ]
  },
  {
   "cell_type": "code",
   "execution_count": 14,
   "id": "1dfe8c46",
   "metadata": {
    "execution": {
     "iopub.execute_input": "2025-07-05T20:01:36.118020Z",
     "iopub.status.busy": "2025-07-05T20:01:36.117681Z",
     "iopub.status.idle": "2025-07-05T20:01:36.125923Z",
     "shell.execute_reply": "2025-07-05T20:01:36.124927Z"
    },
    "papermill": {
     "duration": 0.020338,
     "end_time": "2025-07-05T20:01:36.127784",
     "exception": false,
     "start_time": "2025-07-05T20:01:36.107446",
     "status": "completed"
    },
    "tags": []
   },
   "outputs": [
    {
     "name": "stdout",
     "output_type": "stream",
     "text": [
      "Gender\n",
      "M    4331\n",
      "F    1709\n",
      "Name: count, dtype: int64\n",
      "Age\n",
      "1      222\n",
      "18    1103\n",
      "25    2096\n",
      "35    1193\n",
      "45     550\n",
      "50     496\n",
      "56     380\n",
      "Name: count, dtype: int64\n"
     ]
    }
   ],
   "source": [
    "\n",
    "print(users['Gender'].value_counts())\n",
    "\n",
    "print(users['Age'].value_counts().sort_index())\n"
   ]
  },
  {
   "cell_type": "code",
   "execution_count": 15,
   "id": "a4d41065",
   "metadata": {
    "execution": {
     "iopub.execute_input": "2025-07-05T20:01:36.148037Z",
     "iopub.status.busy": "2025-07-05T20:01:36.147728Z",
     "iopub.status.idle": "2025-07-05T20:01:36.153669Z",
     "shell.execute_reply": "2025-07-05T20:01:36.152339Z"
    },
    "papermill": {
     "duration": 0.018354,
     "end_time": "2025-07-05T20:01:36.155275",
     "exception": false,
     "start_time": "2025-07-05T20:01:36.136921",
     "status": "completed"
    },
    "tags": []
   },
   "outputs": [
    {
     "name": "stdout",
     "output_type": "stream",
     "text": [
      "Index(['UserID', 'Gender', 'Age', 'Occupation', 'Zip-code'], dtype='object')\n"
     ]
    }
   ],
   "source": [
    "# Inspect columns and first few rows\n",
    "print(users.columns)\n",
    "\n"
   ]
  },
  {
   "cell_type": "code",
   "execution_count": 16,
   "id": "2e518c69",
   "metadata": {
    "execution": {
     "iopub.execute_input": "2025-07-05T20:01:36.175629Z",
     "iopub.status.busy": "2025-07-05T20:01:36.174721Z",
     "iopub.status.idle": "2025-07-05T20:01:36.406424Z",
     "shell.execute_reply": "2025-07-05T20:01:36.405385Z"
    },
    "papermill": {
     "duration": 0.243552,
     "end_time": "2025-07-05T20:01:36.408101",
     "exception": false,
     "start_time": "2025-07-05T20:01:36.164549",
     "status": "completed"
    },
    "tags": []
   },
   "outputs": [
    {
     "name": "stdout",
     "output_type": "stream",
     "text": [
      "Genres\n",
      "Drama         1603\n",
      "Comedy        1200\n",
      "Action         503\n",
      "Thriller       492\n",
      "Romance        471\n",
      "Horror         343\n",
      "Adventure      283\n",
      "Sci-Fi         276\n",
      "Children's     251\n",
      "Crime          211\n",
      "Name: count, dtype: int64\n"
     ]
    },
    {
     "data": {
      "image/png": "[encoded data removed]",
      "text/plain": [
       "<Figure size 640x480 with 1 Axes>"
      ]
     },
     "metadata": {},
     "output_type": "display_data"
    }
   ],
   "source": [
    "\n",
    "# Explode genres into one-row-per-genre\n",
    "genre_series = movies['Genres'].str.split('|').explode()\n",
    "genre_counts = genre_series.value_counts()\n",
    "\n",
    "# Show top 10 genres\n",
    "print(genre_counts.head(10))\n",
    "\n",
    "top_genres = genre_counts.head(10)\n",
    "\n",
    "plt.figure()\n",
    "plt.bar(top_genres.index, top_genres.values)\n",
    "plt.xticks(rotation=45, ha='right')\n",
    "plt.title(\"Top 10 Movie Genres\")\n",
    "plt.xlabel(\"Genre\")\n",
    "plt.ylabel(\"Count\")\n",
    "plt.tight_layout()\n",
    "plt.show()\n"
   ]
  },
  {
   "cell_type": "code",
   "execution_count": 17,
   "id": "27c9fc78",
   "metadata": {
    "execution": {
     "iopub.execute_input": "2025-07-05T20:01:36.429899Z",
     "iopub.status.busy": "2025-07-05T20:01:36.429156Z",
     "iopub.status.idle": "2025-07-05T20:01:36.759836Z",
     "shell.execute_reply": "2025-07-05T20:01:36.759012Z"
    },
    "papermill": {
     "duration": 0.343141,
     "end_time": "2025-07-05T20:01:36.761470",
     "exception": false,
     "start_time": "2025-07-05T20:01:36.418329",
     "status": "completed"
    },
    "tags": []
   },
   "outputs": [
    {
     "data": {
      "image/png": "[encoded data removed]",
      "text/plain": [
       "<Figure size 640x480 with 1 Axes>"
      ]
     },
     "metadata": {},
     "output_type": "display_data"
    }
   ],
   "source": [
    "ratings['Rating'].hist(bins=5, edgecolor='black')\n",
    "plt.title(\"Rating Distribution\")\n",
    "plt.xlabel(\"Rating\")\n",
    "plt.ylabel(\"Count\")\n",
    "plt.show()\n"
   ]
  },
  {
   "cell_type": "code",
   "execution_count": 18,
   "id": "f689429a",
   "metadata": {
    "execution": {
     "iopub.execute_input": "2025-07-05T20:01:36.784492Z",
     "iopub.status.busy": "2025-07-05T20:01:36.784206Z",
     "iopub.status.idle": "2025-07-05T20:01:37.507240Z",
     "shell.execute_reply": "2025-07-05T20:01:37.506300Z"
    },
    "papermill": {
     "duration": 0.736549,
     "end_time": "2025-07-05T20:01:37.508776",
     "exception": false,
     "start_time": "2025-07-05T20:01:36.772227",
     "status": "completed"
    },
    "tags": []
   },
   "outputs": [
    {
     "name": "stderr",
     "output_type": "stream",
     "text": [
      "/tmp/ipykernel_13/2774340333.py:6: FutureWarning: 'M' is deprecated and will be removed in a future version, please use 'ME' instead.\n",
      "  ratings.resample('M')['Rating'].count().plot()\n"
     ]
    },
    {
     "data": {
      "image/png": "[encoded data removed]",
      "text/plain": [
       "<Figure size 640x480 with 1 Axes>"
      ]
     },
     "metadata": {},
     "output_type": "display_data"
    },
    {
     "data": {
      "text/plain": [
       "()"
      ]
     },
     "execution_count": 18,
     "metadata": {},
     "output_type": "execute_result"
    }
   ],
   "source": [
    "# Convert to datetime\n",
    "ratings['Datetime'] = pd.to_datetime(ratings['Timestamp'], unit='s')\n",
    "ratings.set_index('Datetime', inplace=True)\n",
    "\n",
    "# Plot ratings over time (e.g. monthly)\n",
    "ratings.resample('M')['Rating'].count().plot()\n",
    "plt.title(\"Monthly Rating Volume\")\n",
    "plt.ylabel(\"Count\"); plt.show()\n",
    "/"
   ]
  },
  {
   "cell_type": "code",
   "execution_count": 19,
   "id": "87cc021e",
   "metadata": {
    "execution": {
     "iopub.execute_input": "2025-07-05T20:01:37.532805Z",
     "iopub.status.busy": "2025-07-05T20:01:37.532432Z",
     "iopub.status.idle": "2025-07-05T20:01:37.864395Z",
     "shell.execute_reply": "2025-07-05T20:01:37.863432Z"
    },
    "papermill": {
     "duration": 0.346077,
     "end_time": "2025-07-05T20:01:37.866034",
     "exception": false,
     "start_time": "2025-07-05T20:01:37.519957",
     "status": "completed"
    },
    "tags": []
   },
   "outputs": [
    {
     "data": {
      "image/png": "[encoded data removed]",
      "text/plain": [
       "<Figure size 640x480 with 1 Axes>"
      ]
     },
     "metadata": {},
     "output_type": "display_data"
    },
    {
     "data": {
      "image/png": "[encoded data removed]",
      "text/plain": [
       "<Figure size 640x480 with 1 Axes>"
      ]
     },
     "metadata": {},
     "output_type": "display_data"
    }
   ],
   "source": [
    "# Gender\n",
    "users['Gender'].value_counts().plot(kind='bar')\n",
    "plt.title(\"User Gender Distribution\"); plt.show()\n",
    "\n",
    "# Age groups\n",
    "users['Age'].value_counts().sort_index().plot(kind='bar')\n",
    "plt.title(\"User Age Distribution\"); plt.show()\n"
   ]
  },
  {
   "cell_type": "code",
   "execution_count": 20,
   "id": "7fed5b86",
   "metadata": {
    "execution": {
     "iopub.execute_input": "2025-07-05T20:01:37.969665Z",
     "iopub.status.busy": "2025-07-05T20:01:37.969312Z",
     "iopub.status.idle": "2025-07-05T20:01:38.263251Z",
     "shell.execute_reply": "2025-07-05T20:01:38.262273Z"
    },
    "papermill": {
     "duration": 0.309755,
     "end_time": "2025-07-05T20:01:38.264959",
     "exception": false,
     "start_time": "2025-07-05T20:01:37.955204",
     "status": "completed"
    },
    "tags": []
   },
   "outputs": [
    {
     "data": {
      "text/html": [
       "<div>\n",
       "<style scoped>\n",
       "    .dataframe tbody tr th:only-of-type {\n",
       "        vertical-align: middle;\n",
       "    }\n",
       "\n",
       "    .dataframe tbody tr th {\n",
       "        vertical-align: top;\n",
       "    }\n",
       "\n",
       "    .dataframe thead th {\n",
       "        text-align: right;\n",
       "    }\n",
       "</style>\n",
       "<table border=\"1\" class=\"dataframe\">\n",
       "  <thead>\n",
       "    <tr style=\"text-align: right;\">\n",
       "      <th></th>\n",
       "      <th>UserID</th>\n",
       "      <th>MovieID</th>\n",
       "      <th>Rating</th>\n",
       "      <th>Timestamp</th>\n",
       "      <th>Gender</th>\n",
       "      <th>Age</th>\n",
       "      <th>Occupation</th>\n",
       "      <th>Zip-code</th>\n",
       "      <th>Title</th>\n",
       "      <th>Genres</th>\n",
       "    </tr>\n",
       "  </thead>\n",
       "  <tbody>\n",
       "    <tr>\n",
       "      <th>0</th>\n",
       "      <td>1</td>\n",
       "      <td>1193</td>\n",
       "      <td>5</td>\n",
       "      <td>978300760</td>\n",
       "      <td>F</td>\n",
       "      <td>1</td>\n",
       "      <td>10</td>\n",
       "      <td>48067</td>\n",
       "      <td>One Flew Over the Cuckoo's Nest (1975)</td>\n",
       "      <td>Drama</td>\n",
       "    </tr>\n",
       "    <tr>\n",
       "      <th>1</th>\n",
       "      <td>1</td>\n",
       "      <td>661</td>\n",
       "      <td>3</td>\n",
       "      <td>978302109</td>\n",
       "      <td>F</td>\n",
       "      <td>1</td>\n",
       "      <td>10</td>\n",
       "      <td>48067</td>\n",
       "      <td>James and the Giant Peach (1996)</td>\n",
       "      <td>Animation|Children's|Musical</td>\n",
       "    </tr>\n",
       "    <tr>\n",
       "      <th>2</th>\n",
       "      <td>1</td>\n",
       "      <td>914</td>\n",
       "      <td>3</td>\n",
       "      <td>978301968</td>\n",
       "      <td>F</td>\n",
       "      <td>1</td>\n",
       "      <td>10</td>\n",
       "      <td>48067</td>\n",
       "      <td>My Fair Lady (1964)</td>\n",
       "      <td>Musical|Romance</td>\n",
       "    </tr>\n",
       "    <tr>\n",
       "      <th>3</th>\n",
       "      <td>1</td>\n",
       "      <td>3408</td>\n",
       "      <td>4</td>\n",
       "      <td>978300275</td>\n",
       "      <td>F</td>\n",
       "      <td>1</td>\n",
       "      <td>10</td>\n",
       "      <td>48067</td>\n",
       "      <td>Erin Brockovich (2000)</td>\n",
       "      <td>Drama</td>\n",
       "    </tr>\n",
       "    <tr>\n",
       "      <th>4</th>\n",
       "      <td>1</td>\n",
       "      <td>2355</td>\n",
       "      <td>5</td>\n",
       "      <td>978824291</td>\n",
       "      <td>F</td>\n",
       "      <td>1</td>\n",
       "      <td>10</td>\n",
       "      <td>48067</td>\n",
       "      <td>Bug's Life, A (1998)</td>\n",
       "      <td>Animation|Children's|Comedy</td>\n",
       "    </tr>\n",
       "  </tbody>\n",
       "</table>\n",
       "</div>"
      ],
      "text/plain": [
       "   UserID  MovieID  Rating  Timestamp Gender  Age  Occupation Zip-code  \\\n",
       "0       1     1193       5  978300760      F    1          10    48067   \n",
       "1       1      661       3  978302109      F    1          10    48067   \n",
       "2       1      914       3  978301968      F    1          10    48067   \n",
       "3       1     3408       4  978300275      F    1          10    48067   \n",
       "4       1     2355       5  978824291      F    1          10    48067   \n",
       "\n",
       "                                    Title                        Genres  \n",
       "0  One Flew Over the Cuckoo's Nest (1975)                         Drama  \n",
       "1        James and the Giant Peach (1996)  Animation|Children's|Musical  \n",
       "2                     My Fair Lady (1964)               Musical|Romance  \n",
       "3                  Erin Brockovich (2000)                         Drama  \n",
       "4                    Bug's Life, A (1998)   Animation|Children's|Comedy  "
      ]
     },
     "execution_count": 20,
     "metadata": {},
     "output_type": "execute_result"
    }
   ],
   "source": [
    "\n",
    "ratings_users = pd.merge(ratings, users, on='UserID', how='left')\n",
    "\n",
    "full = pd.merge(ratings_users, movies, on='MovieID', how='left')\n",
    "full.head()\n"
   ]
  },
  {
   "cell_type": "code",
   "execution_count": 21,
   "id": "29527334",
   "metadata": {
    "execution": {
     "iopub.execute_input": "2025-07-05T20:01:38.292492Z",
     "iopub.status.busy": "2025-07-05T20:01:38.291938Z",
     "iopub.status.idle": "2025-07-05T20:01:41.451165Z",
     "shell.execute_reply": "2025-07-05T20:01:41.450042Z"
    },
    "papermill": {
     "duration": 3.175183,
     "end_time": "2025-07-05T20:01:41.452843",
     "exception": false,
     "start_time": "2025-07-05T20:01:38.277660",
     "status": "completed"
    },
    "tags": []
   },
   "outputs": [
    {
     "data": {
      "text/html": [
       "<div>\n",
       "<style scoped>\n",
       "    .dataframe tbody tr th:only-of-type {\n",
       "        vertical-align: middle;\n",
       "    }\n",
       "\n",
       "    .dataframe tbody tr th {\n",
       "        vertical-align: top;\n",
       "    }\n",
       "\n",
       "    .dataframe thead th {\n",
       "        text-align: right;\n",
       "    }\n",
       "</style>\n",
       "<table border=\"1\" class=\"dataframe\">\n",
       "  <thead>\n",
       "    <tr style=\"text-align: right;\">\n",
       "      <th></th>\n",
       "      <th>UserID</th>\n",
       "      <th>MovieID</th>\n",
       "      <th>Rating</th>\n",
       "      <th>Timestamp</th>\n",
       "      <th>Gender</th>\n",
       "      <th>Age</th>\n",
       "      <th>Occupation</th>\n",
       "      <th>Zip-code</th>\n",
       "      <th>Title</th>\n",
       "      <th>Genres</th>\n",
       "      <th>GenreList</th>\n",
       "    </tr>\n",
       "  </thead>\n",
       "  <tbody>\n",
       "    <tr>\n",
       "      <th>0</th>\n",
       "      <td>1</td>\n",
       "      <td>1193</td>\n",
       "      <td>5</td>\n",
       "      <td>978300760</td>\n",
       "      <td>F</td>\n",
       "      <td>1</td>\n",
       "      <td>10</td>\n",
       "      <td>48067</td>\n",
       "      <td>One Flew Over the Cuckoo's Nest (1975)</td>\n",
       "      <td>Drama</td>\n",
       "      <td>Drama</td>\n",
       "    </tr>\n",
       "    <tr>\n",
       "      <th>1</th>\n",
       "      <td>1</td>\n",
       "      <td>661</td>\n",
       "      <td>3</td>\n",
       "      <td>978302109</td>\n",
       "      <td>F</td>\n",
       "      <td>1</td>\n",
       "      <td>10</td>\n",
       "      <td>48067</td>\n",
       "      <td>James and the Giant Peach (1996)</td>\n",
       "      <td>Animation|Children's|Musical</td>\n",
       "      <td>Animation</td>\n",
       "    </tr>\n",
       "    <tr>\n",
       "      <th>1</th>\n",
       "      <td>1</td>\n",
       "      <td>661</td>\n",
       "      <td>3</td>\n",
       "      <td>978302109</td>\n",
       "      <td>F</td>\n",
       "      <td>1</td>\n",
       "      <td>10</td>\n",
       "      <td>48067</td>\n",
       "      <td>James and the Giant Peach (1996)</td>\n",
       "      <td>Animation|Children's|Musical</td>\n",
       "      <td>Children's</td>\n",
       "    </tr>\n",
       "    <tr>\n",
       "      <th>1</th>\n",
       "      <td>1</td>\n",
       "      <td>661</td>\n",
       "      <td>3</td>\n",
       "      <td>978302109</td>\n",
       "      <td>F</td>\n",
       "      <td>1</td>\n",
       "      <td>10</td>\n",
       "      <td>48067</td>\n",
       "      <td>James and the Giant Peach (1996)</td>\n",
       "      <td>Animation|Children's|Musical</td>\n",
       "      <td>Musical</td>\n",
       "    </tr>\n",
       "    <tr>\n",
       "      <th>2</th>\n",
       "      <td>1</td>\n",
       "      <td>914</td>\n",
       "      <td>3</td>\n",
       "      <td>978301968</td>\n",
       "      <td>F</td>\n",
       "      <td>1</td>\n",
       "      <td>10</td>\n",
       "      <td>48067</td>\n",
       "      <td>My Fair Lady (1964)</td>\n",
       "      <td>Musical|Romance</td>\n",
       "      <td>Musical</td>\n",
       "    </tr>\n",
       "  </tbody>\n",
       "</table>\n",
       "</div>"
      ],
      "text/plain": [
       "   UserID  MovieID  Rating  Timestamp Gender  Age  Occupation Zip-code  \\\n",
       "0       1     1193       5  978300760      F    1          10    48067   \n",
       "1       1      661       3  978302109      F    1          10    48067   \n",
       "1       1      661       3  978302109      F    1          10    48067   \n",
       "1       1      661       3  978302109      F    1          10    48067   \n",
       "2       1      914       3  978301968      F    1          10    48067   \n",
       "\n",
       "                                    Title                        Genres  \\\n",
       "0  One Flew Over the Cuckoo's Nest (1975)                         Drama   \n",
       "1        James and the Giant Peach (1996)  Animation|Children's|Musical   \n",
       "1        James and the Giant Peach (1996)  Animation|Children's|Musical   \n",
       "1        James and the Giant Peach (1996)  Animation|Children's|Musical   \n",
       "2                     My Fair Lady (1964)               Musical|Romance   \n",
       "\n",
       "    GenreList  \n",
       "0       Drama  \n",
       "1   Animation  \n",
       "1  Children's  \n",
       "1     Musical  \n",
       "2     Musical  "
      ]
     },
     "execution_count": 21,
     "metadata": {},
     "output_type": "execute_result"
    }
   ],
   "source": [
    "# Split genres and explode rows\n",
    "full['GenreList'] = full['Genres'].str.split('|')\n",
    "full_exploded = full.explode('GenreList')\n",
    "full_exploded.head()\n"
   ]
  },
  {
   "cell_type": "code",
   "execution_count": 22,
   "id": "a76dbc6a",
   "metadata": {
    "execution": {
     "iopub.execute_input": "2025-07-05T20:01:41.480178Z",
     "iopub.status.busy": "2025-07-05T20:01:41.479714Z",
     "iopub.status.idle": "2025-07-05T20:01:41.797843Z",
     "shell.execute_reply": "2025-07-05T20:01:41.796837Z"
    },
    "papermill": {
     "duration": 0.334286,
     "end_time": "2025-07-05T20:01:41.799730",
     "exception": false,
     "start_time": "2025-07-05T20:01:41.465444",
     "status": "completed"
    },
    "tags": []
   },
   "outputs": [
    {
     "data": {
      "text/html": [
       "<div>\n",
       "<style scoped>\n",
       "    .dataframe tbody tr th:only-of-type {\n",
       "        vertical-align: middle;\n",
       "    }\n",
       "\n",
       "    .dataframe tbody tr th {\n",
       "        vertical-align: top;\n",
       "    }\n",
       "\n",
       "    .dataframe thead th {\n",
       "        text-align: right;\n",
       "    }\n",
       "</style>\n",
       "<table border=\"1\" class=\"dataframe\">\n",
       "  <thead>\n",
       "    <tr style=\"text-align: right;\">\n",
       "      <th>Gender</th>\n",
       "      <th>F</th>\n",
       "      <th>M</th>\n",
       "    </tr>\n",
       "    <tr>\n",
       "      <th>GenreList</th>\n",
       "      <th></th>\n",
       "      <th></th>\n",
       "    </tr>\n",
       "  </thead>\n",
       "  <tbody>\n",
       "    <tr>\n",
       "      <th>Action</th>\n",
       "      <td>45650</td>\n",
       "      <td>211807</td>\n",
       "    </tr>\n",
       "    <tr>\n",
       "      <th>Adventure</th>\n",
       "      <td>27332</td>\n",
       "      <td>106621</td>\n",
       "    </tr>\n",
       "    <tr>\n",
       "      <th>Animation</th>\n",
       "      <td>12221</td>\n",
       "      <td>31072</td>\n",
       "    </tr>\n",
       "    <tr>\n",
       "      <th>Children's</th>\n",
       "      <td>21317</td>\n",
       "      <td>50869</td>\n",
       "    </tr>\n",
       "    <tr>\n",
       "      <th>Comedy</th>\n",
       "      <td>96271</td>\n",
       "      <td>260309</td>\n",
       "    </tr>\n",
       "  </tbody>\n",
       "</table>\n",
       "</div>"
      ],
      "text/plain": [
       "Gender          F       M\n",
       "GenreList                \n",
       "Action      45650  211807\n",
       "Adventure   27332  106621\n",
       "Animation   12221   31072\n",
       "Children's  21317   50869\n",
       "Comedy      96271  260309"
      ]
     },
     "execution_count": 22,
     "metadata": {},
     "output_type": "execute_result"
    }
   ],
   "source": [
    "# Group by gender and genre, count ratings\n",
    "genre_gender_counts = full_exploded.groupby(['GenreList', 'Gender']).size().reset_index(name='count')\n",
    "genre_gender_counts = genre_gender_counts.pivot(index='GenreList', columns='Gender', values='count').fillna(0)\n",
    "genre_gender_counts.head()\n"
   ]
  },
  {
   "cell_type": "code",
   "execution_count": 23,
   "id": "63b48b50",
   "metadata": {
    "execution": {
     "iopub.execute_input": "2025-07-05T20:01:41.828165Z",
     "iopub.status.busy": "2025-07-05T20:01:41.827820Z",
     "iopub.status.idle": "2025-07-05T20:01:41.840194Z",
     "shell.execute_reply": "2025-07-05T20:01:41.839057Z"
    },
    "papermill": {
     "duration": 0.028387,
     "end_time": "2025-07-05T20:01:41.842206",
     "exception": false,
     "start_time": "2025-07-05T20:01:41.813819",
     "status": "completed"
    },
    "tags": []
   },
   "outputs": [],
   "source": [
    "num_males = users[users['Gender'] == 'M'].shape[0]\n",
    "num_females = users[users['Gender'] == 'F'].shape[0]\n",
    "\n",
    "# Normalize: ratings per genre per gender divided by total users of that gender\n",
    "genre_gender_counts['per_male_user'] = genre_gender_counts['M'] / num_males\n",
    "genre_gender_counts['per_female_user'] = genre_gender_counts['F'] / num_females\n"
   ]
  },
  {
   "cell_type": "code",
   "execution_count": 24,
   "id": "f2fc00c9",
   "metadata": {
    "execution": {
     "iopub.execute_input": "2025-07-05T20:01:41.873345Z",
     "iopub.status.busy": "2025-07-05T20:01:41.872985Z",
     "iopub.status.idle": "2025-07-05T20:01:42.273549Z",
     "shell.execute_reply": "2025-07-05T20:01:42.272635Z"
    },
    "papermill": {
     "duration": 0.417642,
     "end_time": "2025-07-05T20:01:42.275236",
     "exception": false,
     "start_time": "2025-07-05T20:01:41.857594",
     "status": "completed"
    },
    "tags": []
   },
   "outputs": [
    {
     "data": {
      "image/png": "[encoded data removed]",
      "text/plain": [
       "<Figure size 1200x600 with 1 Axes>"
      ]
     },
     "metadata": {},
     "output_type": "display_data"
    }
   ],
   "source": [
    "# Sort by highest per-male-user rating count\n",
    "genre_gender_counts_sorted = genre_gender_counts.sort_values('per_male_user', ascending=False)\n",
    "\n",
    "# Plot\n",
    "genre_gender_counts_sorted[['per_male_user', 'per_female_user']].plot(kind='bar', figsize=(12,6))\n",
    "plt.title('Normalized Genre Ratings per User (M vs F)')\n",
    "plt.ylabel('Avg. Number of Ratings per User')\n",
    "plt.xlabel('Genre')\n",
    "plt.tight_layout()\n",
    "plt.show()\n"
   ]
  },
  {
   "cell_type": "markdown",
   "id": "bdd91d80",
   "metadata": {
    "papermill": {
     "duration": 0.014547,
     "end_time": "2025-07-05T20:01:42.304535",
     "exception": false,
     "start_time": "2025-07-05T20:01:42.289988",
     "status": "completed"
    },
    "tags": []
   },
   "source": [
    "Genre Preferences: Both males and females most commonly rate Comedy and Drama. Males have a stronger tendency to rate Action, Thriller, and Sci-Fi, while females lean slightly more toward Romance per user.\n",
    "\n",
    "User Demographics: The largest age group is 25–35, meaning most ratings come from young adults. Older and younger users are underrepresented.\n",
    "\n",
    "Temporal Patterns: The majority of ratings are concentrated in a specific window (late 2000–early 2001). This temporal concentration might influence user similarity and popularity metrics.\n",
    "\n",
    "Rating Distribution: The dataset is skewed toward positive ratings (3 and above), with relatively few low ratings. This suggests most users tend to rate movies they like.\n",
    "\n"
   ]
  },
  {
   "cell_type": "markdown",
   "id": "69fcf2be",
   "metadata": {
    "papermill": {
     "duration": 0.015009,
     "end_time": "2025-07-05T20:01:42.335675",
     "exception": false,
     "start_time": "2025-07-05T20:01:42.320666",
     "status": "completed"
    },
    "tags": []
   },
   "source": [
    "# **Data Preprocessing and feature engineering**"
   ]
  },
  {
   "cell_type": "code",
   "execution_count": 25,
   "id": "db319954",
   "metadata": {
    "execution": {
     "iopub.execute_input": "2025-07-05T20:01:42.366172Z",
     "iopub.status.busy": "2025-07-05T20:01:42.365831Z",
     "iopub.status.idle": "2025-07-05T20:01:42.505437Z",
     "shell.execute_reply": "2025-07-05T20:01:42.504567Z"
    },
    "papermill": {
     "duration": 0.155978,
     "end_time": "2025-07-05T20:01:42.506868",
     "exception": false,
     "start_time": "2025-07-05T20:01:42.350890",
     "status": "completed"
    },
    "tags": []
   },
   "outputs": [
    {
     "data": {
      "text/html": [
       "<div>\n",
       "<style scoped>\n",
       "    .dataframe tbody tr th:only-of-type {\n",
       "        vertical-align: middle;\n",
       "    }\n",
       "\n",
       "    .dataframe tbody tr th {\n",
       "        vertical-align: top;\n",
       "    }\n",
       "\n",
       "    .dataframe thead th {\n",
       "        text-align: right;\n",
       "    }\n",
       "</style>\n",
       "<table border=\"1\" class=\"dataframe\">\n",
       "  <thead>\n",
       "    <tr style=\"text-align: right;\">\n",
       "      <th></th>\n",
       "      <th>MovieID</th>\n",
       "      <th>Title</th>\n",
       "      <th>Genres</th>\n",
       "      <th>GenreList</th>\n",
       "      <th>Action</th>\n",
       "      <th>Adventure</th>\n",
       "      <th>Animation</th>\n",
       "      <th>Children's</th>\n",
       "      <th>Comedy</th>\n",
       "      <th>Crime</th>\n",
       "      <th>...</th>\n",
       "      <th>Fantasy</th>\n",
       "      <th>Film-Noir</th>\n",
       "      <th>Horror</th>\n",
       "      <th>Musical</th>\n",
       "      <th>Mystery</th>\n",
       "      <th>Romance</th>\n",
       "      <th>Sci-Fi</th>\n",
       "      <th>Thriller</th>\n",
       "      <th>War</th>\n",
       "      <th>Western</th>\n",
       "    </tr>\n",
       "  </thead>\n",
       "  <tbody>\n",
       "    <tr>\n",
       "      <th>0</th>\n",
       "      <td>1</td>\n",
       "      <td>Toy Story (1995)</td>\n",
       "      <td>Animation|Children's|Comedy</td>\n",
       "      <td>[Animation, Children's, Comedy]</td>\n",
       "      <td>0</td>\n",
       "      <td>0</td>\n",
       "      <td>1</td>\n",
       "      <td>1</td>\n",
       "      <td>1</td>\n",
       "      <td>0</td>\n",
       "      <td>...</td>\n",
       "      <td>0</td>\n",
       "      <td>0</td>\n",
       "      <td>0</td>\n",
       "      <td>0</td>\n",
       "      <td>0</td>\n",
       "      <td>0</td>\n",
       "      <td>0</td>\n",
       "      <td>0</td>\n",
       "      <td>0</td>\n",
       "      <td>0</td>\n",
       "    </tr>\n",
       "    <tr>\n",
       "      <th>1</th>\n",
       "      <td>2</td>\n",
       "      <td>Jumanji (1995)</td>\n",
       "      <td>Adventure|Children's|Fantasy</td>\n",
       "      <td>[Adventure, Children's, Fantasy]</td>\n",
       "      <td>0</td>\n",
       "      <td>1</td>\n",
       "      <td>0</td>\n",
       "      <td>1</td>\n",
       "      <td>0</td>\n",
       "      <td>0</td>\n",
       "      <td>...</td>\n",
       "      <td>1</td>\n",
       "      <td>0</td>\n",
       "      <td>0</td>\n",
       "      <td>0</td>\n",
       "      <td>0</td>\n",
       "      <td>0</td>\n",
       "      <td>0</td>\n",
       "      <td>0</td>\n",
       "      <td>0</td>\n",
       "      <td>0</td>\n",
       "    </tr>\n",
       "    <tr>\n",
       "      <th>2</th>\n",
       "      <td>3</td>\n",
       "      <td>Grumpier Old Men (1995)</td>\n",
       "      <td>Comedy|Romance</td>\n",
       "      <td>[Comedy, Romance]</td>\n",
       "      <td>0</td>\n",
       "      <td>0</td>\n",
       "      <td>0</td>\n",
       "      <td>0</td>\n",
       "      <td>1</td>\n",
       "      <td>0</td>\n",
       "      <td>...</td>\n",
       "      <td>0</td>\n",
       "      <td>0</td>\n",
       "      <td>0</td>\n",
       "      <td>0</td>\n",
       "      <td>0</td>\n",
       "      <td>1</td>\n",
       "      <td>0</td>\n",
       "      <td>0</td>\n",
       "      <td>0</td>\n",
       "      <td>0</td>\n",
       "    </tr>\n",
       "    <tr>\n",
       "      <th>3</th>\n",
       "      <td>4</td>\n",
       "      <td>Waiting to Exhale (1995)</td>\n",
       "      <td>Comedy|Drama</td>\n",
       "      <td>[Comedy, Drama]</td>\n",
       "      <td>0</td>\n",
       "      <td>0</td>\n",
       "      <td>0</td>\n",
       "      <td>0</td>\n",
       "      <td>1</td>\n",
       "      <td>0</td>\n",
       "      <td>...</td>\n",
       "      <td>0</td>\n",
       "      <td>0</td>\n",
       "      <td>0</td>\n",
       "      <td>0</td>\n",
       "      <td>0</td>\n",
       "      <td>0</td>\n",
       "      <td>0</td>\n",
       "      <td>0</td>\n",
       "      <td>0</td>\n",
       "      <td>0</td>\n",
       "    </tr>\n",
       "    <tr>\n",
       "      <th>4</th>\n",
       "      <td>5</td>\n",
       "      <td>Father of the Bride Part II (1995)</td>\n",
       "      <td>Comedy</td>\n",
       "      <td>[Comedy]</td>\n",
       "      <td>0</td>\n",
       "      <td>0</td>\n",
       "      <td>0</td>\n",
       "      <td>0</td>\n",
       "      <td>1</td>\n",
       "      <td>0</td>\n",
       "      <td>...</td>\n",
       "      <td>0</td>\n",
       "      <td>0</td>\n",
       "      <td>0</td>\n",
       "      <td>0</td>\n",
       "      <td>0</td>\n",
       "      <td>0</td>\n",
       "      <td>0</td>\n",
       "      <td>0</td>\n",
       "      <td>0</td>\n",
       "      <td>0</td>\n",
       "    </tr>\n",
       "  </tbody>\n",
       "</table>\n",
       "<p>5 rows × 22 columns</p>\n",
       "</div>"
      ],
      "text/plain": [
       "   MovieID                               Title                        Genres  \\\n",
       "0        1                    Toy Story (1995)   Animation|Children's|Comedy   \n",
       "1        2                      Jumanji (1995)  Adventure|Children's|Fantasy   \n",
       "2        3             Grumpier Old Men (1995)                Comedy|Romance   \n",
       "3        4            Waiting to Exhale (1995)                  Comedy|Drama   \n",
       "4        5  Father of the Bride Part II (1995)                        Comedy   \n",
       "\n",
       "                          GenreList  Action  Adventure  Animation  Children's  \\\n",
       "0   [Animation, Children's, Comedy]       0          0          1           1   \n",
       "1  [Adventure, Children's, Fantasy]       0          1          0           1   \n",
       "2                 [Comedy, Romance]       0          0          0           0   \n",
       "3                   [Comedy, Drama]       0          0          0           0   \n",
       "4                          [Comedy]       0          0          0           0   \n",
       "\n",
       "   Comedy  Crime  ...  Fantasy  Film-Noir  Horror  Musical  Mystery  Romance  \\\n",
       "0       1      0  ...        0          0       0        0        0        0   \n",
       "1       0      0  ...        1          0       0        0        0        0   \n",
       "2       1      0  ...        0          0       0        0        0        1   \n",
       "3       1      0  ...        0          0       0        0        0        0   \n",
       "4       1      0  ...        0          0       0        0        0        0   \n",
       "\n",
       "   Sci-Fi  Thriller  War  Western  \n",
       "0       0         0    0        0  \n",
       "1       0         0    0        0  \n",
       "2       0         0    0        0  \n",
       "3       0         0    0        0  \n",
       "4       0         0    0        0  \n",
       "\n",
       "[5 rows x 22 columns]"
      ]
     },
     "execution_count": 25,
     "metadata": {},
     "output_type": "execute_result"
    }
   ],
   "source": [
    "# Make a copy to avoid modifying original\n",
    "movies_features = movies.copy()\n",
    "\n",
    "# Split genres and use MultiLabelBinarizer for one-hot encoding\n",
    "from sklearn.preprocessing import MultiLabelBinarizer\n",
    "\n",
    "movies_features['GenreList'] = movies_features['Genres'].str.split('|')\n",
    "mlb = MultiLabelBinarizer()\n",
    "genre_ohe = mlb.fit_transform(movies_features['GenreList'])\n",
    "\n",
    "# Add one-hot columns to DataFrame\n",
    "genre_df = pd.DataFrame(genre_ohe, columns=mlb.classes_, index=movies_features.index)\n",
    "movies_features = pd.concat([movies_features, genre_df], axis=1)\n",
    "\n",
    "movies_features.head()\n"
   ]
  },
  {
   "cell_type": "code",
   "execution_count": 26,
   "id": "e3ec7f1d",
   "metadata": {
    "execution": {
     "iopub.execute_input": "2025-07-05T20:01:42.536825Z",
     "iopub.status.busy": "2025-07-05T20:01:42.536437Z",
     "iopub.status.idle": "2025-07-05T20:01:42.563707Z",
     "shell.execute_reply": "2025-07-05T20:01:42.562678Z"
    },
    "papermill": {
     "duration": 0.044141,
     "end_time": "2025-07-05T20:01:42.565456",
     "exception": false,
     "start_time": "2025-07-05T20:01:42.521315",
     "status": "completed"
    },
    "tags": []
   },
   "outputs": [
    {
     "data": {
      "text/html": [
       "<div>\n",
       "<style scoped>\n",
       "    .dataframe tbody tr th:only-of-type {\n",
       "        vertical-align: middle;\n",
       "    }\n",
       "\n",
       "    .dataframe tbody tr th {\n",
       "        vertical-align: top;\n",
       "    }\n",
       "\n",
       "    .dataframe thead th {\n",
       "        text-align: right;\n",
       "    }\n",
       "</style>\n",
       "<table border=\"1\" class=\"dataframe\">\n",
       "  <thead>\n",
       "    <tr style=\"text-align: right;\">\n",
       "      <th></th>\n",
       "      <th>MovieID</th>\n",
       "      <th>Title</th>\n",
       "      <th>Genres</th>\n",
       "      <th>GenreList</th>\n",
       "      <th>Action</th>\n",
       "      <th>Adventure</th>\n",
       "      <th>Animation</th>\n",
       "      <th>Children's</th>\n",
       "      <th>Comedy</th>\n",
       "      <th>Crime</th>\n",
       "      <th>...</th>\n",
       "      <th>Film-Noir</th>\n",
       "      <th>Horror</th>\n",
       "      <th>Musical</th>\n",
       "      <th>Mystery</th>\n",
       "      <th>Romance</th>\n",
       "      <th>Sci-Fi</th>\n",
       "      <th>Thriller</th>\n",
       "      <th>War</th>\n",
       "      <th>Western</th>\n",
       "      <th>Year</th>\n",
       "    </tr>\n",
       "  </thead>\n",
       "  <tbody>\n",
       "    <tr>\n",
       "      <th>0</th>\n",
       "      <td>1</td>\n",
       "      <td>Toy Story (1995)</td>\n",
       "      <td>Animation|Children's|Comedy</td>\n",
       "      <td>[Animation, Children's, Comedy]</td>\n",
       "      <td>0</td>\n",
       "      <td>0</td>\n",
       "      <td>1</td>\n",
       "      <td>1</td>\n",
       "      <td>1</td>\n",
       "      <td>0</td>\n",
       "      <td>...</td>\n",
       "      <td>0</td>\n",
       "      <td>0</td>\n",
       "      <td>0</td>\n",
       "      <td>0</td>\n",
       "      <td>0</td>\n",
       "      <td>0</td>\n",
       "      <td>0</td>\n",
       "      <td>0</td>\n",
       "      <td>0</td>\n",
       "      <td>1995.0</td>\n",
       "    </tr>\n",
       "    <tr>\n",
       "      <th>1</th>\n",
       "      <td>2</td>\n",
       "      <td>Jumanji (1995)</td>\n",
       "      <td>Adventure|Children's|Fantasy</td>\n",
       "      <td>[Adventure, Children's, Fantasy]</td>\n",
       "      <td>0</td>\n",
       "      <td>1</td>\n",
       "      <td>0</td>\n",
       "      <td>1</td>\n",
       "      <td>0</td>\n",
       "      <td>0</td>\n",
       "      <td>...</td>\n",
       "      <td>0</td>\n",
       "      <td>0</td>\n",
       "      <td>0</td>\n",
       "      <td>0</td>\n",
       "      <td>0</td>\n",
       "      <td>0</td>\n",
       "      <td>0</td>\n",
       "      <td>0</td>\n",
       "      <td>0</td>\n",
       "      <td>1995.0</td>\n",
       "    </tr>\n",
       "    <tr>\n",
       "      <th>2</th>\n",
       "      <td>3</td>\n",
       "      <td>Grumpier Old Men (1995)</td>\n",
       "      <td>Comedy|Romance</td>\n",
       "      <td>[Comedy, Romance]</td>\n",
       "      <td>0</td>\n",
       "      <td>0</td>\n",
       "      <td>0</td>\n",
       "      <td>0</td>\n",
       "      <td>1</td>\n",
       "      <td>0</td>\n",
       "      <td>...</td>\n",
       "      <td>0</td>\n",
       "      <td>0</td>\n",
       "      <td>0</td>\n",
       "      <td>0</td>\n",
       "      <td>1</td>\n",
       "      <td>0</td>\n",
       "      <td>0</td>\n",
       "      <td>0</td>\n",
       "      <td>0</td>\n",
       "      <td>1995.0</td>\n",
       "    </tr>\n",
       "    <tr>\n",
       "      <th>3</th>\n",
       "      <td>4</td>\n",
       "      <td>Waiting to Exhale (1995)</td>\n",
       "      <td>Comedy|Drama</td>\n",
       "      <td>[Comedy, Drama]</td>\n",
       "      <td>0</td>\n",
       "      <td>0</td>\n",
       "      <td>0</td>\n",
       "      <td>0</td>\n",
       "      <td>1</td>\n",
       "      <td>0</td>\n",
       "      <td>...</td>\n",
       "      <td>0</td>\n",
       "      <td>0</td>\n",
       "      <td>0</td>\n",
       "      <td>0</td>\n",
       "      <td>0</td>\n",
       "      <td>0</td>\n",
       "      <td>0</td>\n",
       "      <td>0</td>\n",
       "      <td>0</td>\n",
       "      <td>1995.0</td>\n",
       "    </tr>\n",
       "    <tr>\n",
       "      <th>4</th>\n",
       "      <td>5</td>\n",
       "      <td>Father of the Bride Part II (1995)</td>\n",
       "      <td>Comedy</td>\n",
       "      <td>[Comedy]</td>\n",
       "      <td>0</td>\n",
       "      <td>0</td>\n",
       "      <td>0</td>\n",
       "      <td>0</td>\n",
       "      <td>1</td>\n",
       "      <td>0</td>\n",
       "      <td>...</td>\n",
       "      <td>0</td>\n",
       "      <td>0</td>\n",
       "      <td>0</td>\n",
       "      <td>0</td>\n",
       "      <td>0</td>\n",
       "      <td>0</td>\n",
       "      <td>0</td>\n",
       "      <td>0</td>\n",
       "      <td>0</td>\n",
       "      <td>1995.0</td>\n",
       "    </tr>\n",
       "  </tbody>\n",
       "</table>\n",
       "<p>5 rows × 23 columns</p>\n",
       "</div>"
      ],
      "text/plain": [
       "   MovieID                               Title                        Genres  \\\n",
       "0        1                    Toy Story (1995)   Animation|Children's|Comedy   \n",
       "1        2                      Jumanji (1995)  Adventure|Children's|Fantasy   \n",
       "2        3             Grumpier Old Men (1995)                Comedy|Romance   \n",
       "3        4            Waiting to Exhale (1995)                  Comedy|Drama   \n",
       "4        5  Father of the Bride Part II (1995)                        Comedy   \n",
       "\n",
       "                          GenreList  Action  Adventure  Animation  Children's  \\\n",
       "0   [Animation, Children's, Comedy]       0          0          1           1   \n",
       "1  [Adventure, Children's, Fantasy]       0          1          0           1   \n",
       "2                 [Comedy, Romance]       0          0          0           0   \n",
       "3                   [Comedy, Drama]       0          0          0           0   \n",
       "4                          [Comedy]       0          0          0           0   \n",
       "\n",
       "   Comedy  Crime  ...  Film-Noir  Horror  Musical  Mystery  Romance  Sci-Fi  \\\n",
       "0       1      0  ...          0       0        0        0        0       0   \n",
       "1       0      0  ...          0       0        0        0        0       0   \n",
       "2       1      0  ...          0       0        0        0        1       0   \n",
       "3       1      0  ...          0       0        0        0        0       0   \n",
       "4       1      0  ...          0       0        0        0        0       0   \n",
       "\n",
       "   Thriller  War  Western    Year  \n",
       "0         0    0        0  1995.0  \n",
       "1         0    0        0  1995.0  \n",
       "2         0    0        0  1995.0  \n",
       "3         0    0        0  1995.0  \n",
       "4         0    0        0  1995.0  \n",
       "\n",
       "[5 rows x 23 columns]"
      ]
     },
     "execution_count": 26,
     "metadata": {},
     "output_type": "execute_result"
    }
   ],
   "source": [
    "import re\n",
    "\n",
    "# Extract year from the Title (e.g. \"Toy Story (1995)\")\n",
    "movies_features['Year'] = movies_features['Title'].str.extract(r'\\((\\d{4})\\)')\n",
    "movies_features['Year'] = movies_features['Year'].astype(float)\n",
    "movies_features.head()\n"
   ]
  },
  {
   "cell_type": "code",
   "execution_count": 27,
   "id": "2cd0af01",
   "metadata": {
    "execution": {
     "iopub.execute_input": "2025-07-05T20:01:42.596104Z",
     "iopub.status.busy": "2025-07-05T20:01:42.595341Z",
     "iopub.status.idle": "2025-07-05T20:01:42.791368Z",
     "shell.execute_reply": "2025-07-05T20:01:42.790366Z"
    },
    "papermill": {
     "duration": 0.213058,
     "end_time": "2025-07-05T20:01:42.793021",
     "exception": false,
     "start_time": "2025-07-05T20:01:42.579963",
     "status": "completed"
    },
    "tags": []
   },
   "outputs": [
    {
     "data": {
      "text/html": [
       "<div>\n",
       "<style scoped>\n",
       "    .dataframe tbody tr th:only-of-type {\n",
       "        vertical-align: middle;\n",
       "    }\n",
       "\n",
       "    .dataframe tbody tr th {\n",
       "        vertical-align: top;\n",
       "    }\n",
       "\n",
       "    .dataframe thead th {\n",
       "        text-align: right;\n",
       "    }\n",
       "</style>\n",
       "<table border=\"1\" class=\"dataframe\">\n",
       "  <thead>\n",
       "    <tr style=\"text-align: right;\">\n",
       "      <th></th>\n",
       "      <th>UserID</th>\n",
       "      <th>MovieID</th>\n",
       "      <th>Rating</th>\n",
       "      <th>Timestamp</th>\n",
       "      <th>Action</th>\n",
       "      <th>Adventure</th>\n",
       "      <th>Animation</th>\n",
       "      <th>Children's</th>\n",
       "      <th>Comedy</th>\n",
       "      <th>Crime</th>\n",
       "      <th>...</th>\n",
       "      <th>Film-Noir</th>\n",
       "      <th>Horror</th>\n",
       "      <th>Musical</th>\n",
       "      <th>Mystery</th>\n",
       "      <th>Romance</th>\n",
       "      <th>Sci-Fi</th>\n",
       "      <th>Thriller</th>\n",
       "      <th>War</th>\n",
       "      <th>Western</th>\n",
       "      <th>Year</th>\n",
       "    </tr>\n",
       "  </thead>\n",
       "  <tbody>\n",
       "    <tr>\n",
       "      <th>0</th>\n",
       "      <td>1</td>\n",
       "      <td>1193</td>\n",
       "      <td>5</td>\n",
       "      <td>978300760</td>\n",
       "      <td>0</td>\n",
       "      <td>0</td>\n",
       "      <td>0</td>\n",
       "      <td>0</td>\n",
       "      <td>0</td>\n",
       "      <td>0</td>\n",
       "      <td>...</td>\n",
       "      <td>0</td>\n",
       "      <td>0</td>\n",
       "      <td>0</td>\n",
       "      <td>0</td>\n",
       "      <td>0</td>\n",
       "      <td>0</td>\n",
       "      <td>0</td>\n",
       "      <td>0</td>\n",
       "      <td>0</td>\n",
       "      <td>1975.0</td>\n",
       "    </tr>\n",
       "    <tr>\n",
       "      <th>1</th>\n",
       "      <td>1</td>\n",
       "      <td>661</td>\n",
       "      <td>3</td>\n",
       "      <td>978302109</td>\n",
       "      <td>0</td>\n",
       "      <td>0</td>\n",
       "      <td>1</td>\n",
       "      <td>1</td>\n",
       "      <td>0</td>\n",
       "      <td>0</td>\n",
       "      <td>...</td>\n",
       "      <td>0</td>\n",
       "      <td>0</td>\n",
       "      <td>1</td>\n",
       "      <td>0</td>\n",
       "      <td>0</td>\n",
       "      <td>0</td>\n",
       "      <td>0</td>\n",
       "      <td>0</td>\n",
       "      <td>0</td>\n",
       "      <td>1996.0</td>\n",
       "    </tr>\n",
       "    <tr>\n",
       "      <th>2</th>\n",
       "      <td>1</td>\n",
       "      <td>914</td>\n",
       "      <td>3</td>\n",
       "      <td>978301968</td>\n",
       "      <td>0</td>\n",
       "      <td>0</td>\n",
       "      <td>0</td>\n",
       "      <td>0</td>\n",
       "      <td>0</td>\n",
       "      <td>0</td>\n",
       "      <td>...</td>\n",
       "      <td>0</td>\n",
       "      <td>0</td>\n",
       "      <td>1</td>\n",
       "      <td>0</td>\n",
       "      <td>1</td>\n",
       "      <td>0</td>\n",
       "      <td>0</td>\n",
       "      <td>0</td>\n",
       "      <td>0</td>\n",
       "      <td>1964.0</td>\n",
       "    </tr>\n",
       "    <tr>\n",
       "      <th>3</th>\n",
       "      <td>1</td>\n",
       "      <td>3408</td>\n",
       "      <td>4</td>\n",
       "      <td>978300275</td>\n",
       "      <td>0</td>\n",
       "      <td>0</td>\n",
       "      <td>0</td>\n",
       "      <td>0</td>\n",
       "      <td>0</td>\n",
       "      <td>0</td>\n",
       "      <td>...</td>\n",
       "      <td>0</td>\n",
       "      <td>0</td>\n",
       "      <td>0</td>\n",
       "      <td>0</td>\n",
       "      <td>0</td>\n",
       "      <td>0</td>\n",
       "      <td>0</td>\n",
       "      <td>0</td>\n",
       "      <td>0</td>\n",
       "      <td>2000.0</td>\n",
       "    </tr>\n",
       "    <tr>\n",
       "      <th>4</th>\n",
       "      <td>1</td>\n",
       "      <td>2355</td>\n",
       "      <td>5</td>\n",
       "      <td>978824291</td>\n",
       "      <td>0</td>\n",
       "      <td>0</td>\n",
       "      <td>1</td>\n",
       "      <td>1</td>\n",
       "      <td>1</td>\n",
       "      <td>0</td>\n",
       "      <td>...</td>\n",
       "      <td>0</td>\n",
       "      <td>0</td>\n",
       "      <td>0</td>\n",
       "      <td>0</td>\n",
       "      <td>0</td>\n",
       "      <td>0</td>\n",
       "      <td>0</td>\n",
       "      <td>0</td>\n",
       "      <td>0</td>\n",
       "      <td>1998.0</td>\n",
       "    </tr>\n",
       "  </tbody>\n",
       "</table>\n",
       "<p>5 rows × 23 columns</p>\n",
       "</div>"
      ],
      "text/plain": [
       "   UserID  MovieID  Rating  Timestamp  Action  Adventure  Animation  \\\n",
       "0       1     1193       5  978300760       0          0          0   \n",
       "1       1      661       3  978302109       0          0          1   \n",
       "2       1      914       3  978301968       0          0          0   \n",
       "3       1     3408       4  978300275       0          0          0   \n",
       "4       1     2355       5  978824291       0          0          1   \n",
       "\n",
       "   Children's  Comedy  Crime  ...  Film-Noir  Horror  Musical  Mystery  \\\n",
       "0           0       0      0  ...          0       0        0        0   \n",
       "1           1       0      0  ...          0       0        1        0   \n",
       "2           0       0      0  ...          0       0        1        0   \n",
       "3           0       0      0  ...          0       0        0        0   \n",
       "4           1       1      0  ...          0       0        0        0   \n",
       "\n",
       "   Romance  Sci-Fi  Thriller  War  Western    Year  \n",
       "0        0       0         0    0        0  1975.0  \n",
       "1        0       0         0    0        0  1996.0  \n",
       "2        1       0         0    0        0  1964.0  \n",
       "3        0       0         0    0        0  2000.0  \n",
       "4        0       0         0    0        0  1998.0  \n",
       "\n",
       "[5 rows x 23 columns]"
      ]
     },
     "execution_count": 27,
     "metadata": {},
     "output_type": "execute_result"
    }
   ],
   "source": [
    "# Merge ratings with one-hot encoded genres and year\n",
    "ratings_with_features = ratings.merge(movies_features[['MovieID'] + list(mlb.classes_) + ['Year']], \n",
    "                                      on='MovieID', how='left')\n",
    "ratings_with_features.head()\n"
   ]
  },
  {
   "cell_type": "code",
   "execution_count": 28,
   "id": "55624799",
   "metadata": {
    "execution": {
     "iopub.execute_input": "2025-07-05T20:01:42.823521Z",
     "iopub.status.busy": "2025-07-05T20:01:42.823213Z",
     "iopub.status.idle": "2025-07-05T20:01:42.974105Z",
     "shell.execute_reply": "2025-07-05T20:01:42.973067Z"
    },
    "papermill": {
     "duration": 0.168676,
     "end_time": "2025-07-05T20:01:42.976111",
     "exception": false,
     "start_time": "2025-07-05T20:01:42.807435",
     "status": "completed"
    },
    "tags": []
   },
   "outputs": [
    {
     "data": {
      "text/html": [
       "<div>\n",
       "<style scoped>\n",
       "    .dataframe tbody tr th:only-of-type {\n",
       "        vertical-align: middle;\n",
       "    }\n",
       "\n",
       "    .dataframe tbody tr th {\n",
       "        vertical-align: top;\n",
       "    }\n",
       "\n",
       "    .dataframe thead th {\n",
       "        text-align: right;\n",
       "    }\n",
       "</style>\n",
       "<table border=\"1\" class=\"dataframe\">\n",
       "  <thead>\n",
       "    <tr style=\"text-align: right;\">\n",
       "      <th></th>\n",
       "      <th>Action</th>\n",
       "      <th>Adventure</th>\n",
       "      <th>Animation</th>\n",
       "      <th>Children's</th>\n",
       "      <th>Comedy</th>\n",
       "      <th>Crime</th>\n",
       "      <th>Documentary</th>\n",
       "      <th>Drama</th>\n",
       "      <th>Fantasy</th>\n",
       "      <th>Film-Noir</th>\n",
       "      <th>Horror</th>\n",
       "      <th>Musical</th>\n",
       "      <th>Mystery</th>\n",
       "      <th>Romance</th>\n",
       "      <th>Sci-Fi</th>\n",
       "      <th>Thriller</th>\n",
       "      <th>War</th>\n",
       "      <th>Western</th>\n",
       "    </tr>\n",
       "    <tr>\n",
       "      <th>UserID</th>\n",
       "      <th></th>\n",
       "      <th></th>\n",
       "      <th></th>\n",
       "      <th></th>\n",
       "      <th></th>\n",
       "      <th></th>\n",
       "      <th></th>\n",
       "      <th></th>\n",
       "      <th></th>\n",
       "      <th></th>\n",
       "      <th></th>\n",
       "      <th></th>\n",
       "      <th></th>\n",
       "      <th></th>\n",
       "      <th></th>\n",
       "      <th></th>\n",
       "      <th></th>\n",
       "      <th></th>\n",
       "    </tr>\n",
       "  </thead>\n",
       "  <tbody>\n",
       "    <tr>\n",
       "      <th>1</th>\n",
       "      <td>0.088889</td>\n",
       "      <td>0.088889</td>\n",
       "      <td>0.311111</td>\n",
       "      <td>0.400000</td>\n",
       "      <td>0.244444</td>\n",
       "      <td>0.044444</td>\n",
       "      <td>0.00000</td>\n",
       "      <td>0.466667</td>\n",
       "      <td>0.066667</td>\n",
       "      <td>0.000000</td>\n",
       "      <td>0.000000</td>\n",
       "      <td>0.266667</td>\n",
       "      <td>0.000000</td>\n",
       "      <td>0.066667</td>\n",
       "      <td>0.066667</td>\n",
       "      <td>0.044444</td>\n",
       "      <td>0.044444</td>\n",
       "      <td>0.000000</td>\n",
       "    </tr>\n",
       "    <tr>\n",
       "      <th>2</th>\n",
       "      <td>0.356164</td>\n",
       "      <td>0.150685</td>\n",
       "      <td>0.000000</td>\n",
       "      <td>0.000000</td>\n",
       "      <td>0.191781</td>\n",
       "      <td>0.082192</td>\n",
       "      <td>0.00000</td>\n",
       "      <td>0.712329</td>\n",
       "      <td>0.000000</td>\n",
       "      <td>0.013699</td>\n",
       "      <td>0.000000</td>\n",
       "      <td>0.000000</td>\n",
       "      <td>0.013699</td>\n",
       "      <td>0.178082</td>\n",
       "      <td>0.109589</td>\n",
       "      <td>0.205479</td>\n",
       "      <td>0.109589</td>\n",
       "      <td>0.041096</td>\n",
       "    </tr>\n",
       "    <tr>\n",
       "      <th>3</th>\n",
       "      <td>0.486486</td>\n",
       "      <td>0.567568</td>\n",
       "      <td>0.054054</td>\n",
       "      <td>0.054054</td>\n",
       "      <td>0.513514</td>\n",
       "      <td>0.000000</td>\n",
       "      <td>0.00000</td>\n",
       "      <td>0.189189</td>\n",
       "      <td>0.054054</td>\n",
       "      <td>0.000000</td>\n",
       "      <td>0.027027</td>\n",
       "      <td>0.027027</td>\n",
       "      <td>0.000000</td>\n",
       "      <td>0.108108</td>\n",
       "      <td>0.108108</td>\n",
       "      <td>0.081081</td>\n",
       "      <td>0.054054</td>\n",
       "      <td>0.162162</td>\n",
       "    </tr>\n",
       "    <tr>\n",
       "      <th>4</th>\n",
       "      <td>0.888889</td>\n",
       "      <td>0.222222</td>\n",
       "      <td>0.000000</td>\n",
       "      <td>0.055556</td>\n",
       "      <td>0.000000</td>\n",
       "      <td>0.055556</td>\n",
       "      <td>0.00000</td>\n",
       "      <td>0.277778</td>\n",
       "      <td>0.111111</td>\n",
       "      <td>0.000000</td>\n",
       "      <td>0.166667</td>\n",
       "      <td>0.000000</td>\n",
       "      <td>0.000000</td>\n",
       "      <td>0.055556</td>\n",
       "      <td>0.333333</td>\n",
       "      <td>0.166667</td>\n",
       "      <td>0.055556</td>\n",
       "      <td>0.111111</td>\n",
       "    </tr>\n",
       "    <tr>\n",
       "      <th>5</th>\n",
       "      <td>0.097561</td>\n",
       "      <td>0.060976</td>\n",
       "      <td>0.036585</td>\n",
       "      <td>0.048780</td>\n",
       "      <td>0.353659</td>\n",
       "      <td>0.121951</td>\n",
       "      <td>0.04878</td>\n",
       "      <td>0.512195</td>\n",
       "      <td>0.000000</td>\n",
       "      <td>0.024390</td>\n",
       "      <td>0.024390</td>\n",
       "      <td>0.024390</td>\n",
       "      <td>0.024390</td>\n",
       "      <td>0.109756</td>\n",
       "      <td>0.073171</td>\n",
       "      <td>0.158537</td>\n",
       "      <td>0.048780</td>\n",
       "      <td>0.012195</td>\n",
       "    </tr>\n",
       "  </tbody>\n",
       "</table>\n",
       "</div>"
      ],
      "text/plain": [
       "          Action  Adventure  Animation  Children's    Comedy     Crime  \\\n",
       "UserID                                                                   \n",
       "1       0.088889   0.088889   0.311111    0.400000  0.244444  0.044444   \n",
       "2       0.356164   0.150685   0.000000    0.000000  0.191781  0.082192   \n",
       "3       0.486486   0.567568   0.054054    0.054054  0.513514  0.000000   \n",
       "4       0.888889   0.222222   0.000000    0.055556  0.000000  0.055556   \n",
       "5       0.097561   0.060976   0.036585    0.048780  0.353659  0.121951   \n",
       "\n",
       "        Documentary     Drama   Fantasy  Film-Noir    Horror   Musical  \\\n",
       "UserID                                                                   \n",
       "1           0.00000  0.466667  0.066667   0.000000  0.000000  0.266667   \n",
       "2           0.00000  0.712329  0.000000   0.013699  0.000000  0.000000   \n",
       "3           0.00000  0.189189  0.054054   0.000000  0.027027  0.027027   \n",
       "4           0.00000  0.277778  0.111111   0.000000  0.166667  0.000000   \n",
       "5           0.04878  0.512195  0.000000   0.024390  0.024390  0.024390   \n",
       "\n",
       "         Mystery   Romance    Sci-Fi  Thriller       War   Western  \n",
       "UserID                                                              \n",
       "1       0.000000  0.066667  0.066667  0.044444  0.044444  0.000000  \n",
       "2       0.013699  0.178082  0.109589  0.205479  0.109589  0.041096  \n",
       "3       0.000000  0.108108  0.108108  0.081081  0.054054  0.162162  \n",
       "4       0.000000  0.055556  0.333333  0.166667  0.055556  0.111111  \n",
       "5       0.024390  0.109756  0.073171  0.158537  0.048780  0.012195  "
      ]
     },
     "execution_count": 28,
     "metadata": {},
     "output_type": "execute_result"
    }
   ],
   "source": [
    "# Filter for highly rated movies (e.g., 4 or 5 stars)\n",
    "high_ratings = ratings_with_features[ratings_with_features['Rating'] >= 4]\n",
    "\n",
    "# Group by user and compute average genre vector\n",
    "user_profiles = high_ratings.groupby('UserID')[mlb.classes_].mean()\n",
    "user_profiles.head()\n"
   ]
  },
  {
   "cell_type": "code",
   "execution_count": 29,
   "id": "078250e2",
   "metadata": {
    "execution": {
     "iopub.execute_input": "2025-07-05T20:01:43.010407Z",
     "iopub.status.busy": "2025-07-05T20:01:43.010070Z",
     "iopub.status.idle": "2025-07-05T20:01:49.398429Z",
     "shell.execute_reply": "2025-07-05T20:01:49.397671Z"
    },
    "papermill": {
     "duration": 6.406625,
     "end_time": "2025-07-05T20:01:49.400275",
     "exception": false,
     "start_time": "2025-07-05T20:01:42.993650",
     "status": "completed"
    },
    "tags": []
   },
   "outputs": [],
   "source": [
    "# Save processed features for later use\n",
    "movies_features.to_csv('movies_features.csv', index=False)\n",
    "ratings_with_features.to_csv('ratings_with_features.csv', index=False)\n",
    "user_profiles.to_csv('user_profiles.csv')\n"
   ]
  },
  {
   "cell_type": "code",
   "execution_count": 30,
   "id": "53329493",
   "metadata": {
    "execution": {
     "iopub.execute_input": "2025-07-05T20:01:49.432368Z",
     "iopub.status.busy": "2025-07-05T20:01:49.432003Z",
     "iopub.status.idle": "2025-07-05T20:01:55.627492Z",
     "shell.execute_reply": "2025-07-05T20:01:55.626185Z"
    },
    "papermill": {
     "duration": 6.213,
     "end_time": "2025-07-05T20:01:55.629398",
     "exception": false,
     "start_time": "2025-07-05T20:01:49.416398",
     "status": "completed"
    },
    "tags": []
   },
   "outputs": [
    {
     "name": "stdout",
     "output_type": "stream",
     "text": [
      "Collecting wikipedia\r\n",
      "  Downloading wikipedia-1.4.0.tar.gz (27 kB)\r\n",
      "  Preparing metadata (setup.py) ... \u001b[?25l\u001b[?25hdone\r\n",
      "Requirement already satisfied: beautifulsoup4 in /usr/local/lib/python3.11/dist-packages (from wikipedia) (4.13.3)\r\n",
      "Requirement already satisfied: requests<3.0.0,>=2.0.0 in /usr/local/lib/python3.11/dist-packages (from wikipedia) (2.32.3)\r\n",
      "Requirement already satisfied: charset-normalizer<4,>=2 in /usr/local/lib/python3.11/dist-packages (from requests<3.0.0,>=2.0.0->wikipedia) (3.4.2)\r\n",
      "Requirement already satisfied: idna<4,>=2.5 in /usr/local/lib/python3.11/dist-packages (from requests<3.0.0,>=2.0.0->wikipedia) (3.10)\r\n",
      "Requirement already satisfied: urllib3<3,>=1.21.1 in /usr/local/lib/python3.11/dist-packages (from requests<3.0.0,>=2.0.0->wikipedia) (2.4.0)\r\n",
      "Requirement already satisfied: certifi>=2017.4.17 in /usr/local/lib/python3.11/dist-packages (from requests<3.0.0,>=2.0.0->wikipedia) (2025.4.26)\r\n",
      "Requirement already satisfied: soupsieve>1.2 in /usr/local/lib/python3.11/dist-packages (from beautifulsoup4->wikipedia) (2.6)\r\n",
      "Requirement already satisfied: typing-extensions>=4.0.0 in /usr/local/lib/python3.11/dist-packages (from beautifulsoup4->wikipedia) (4.13.2)\r\n",
      "Building wheels for collected packages: wikipedia\r\n",
      "  Building wheel for wikipedia (setup.py) ... \u001b[?25l\u001b[?25hdone\r\n",
      "  Created wheel for wikipedia: filename=wikipedia-1.4.0-py3-none-any.whl size=11678 sha256=05ee9c8d5571b92c2d8d55855a6c29e9ddf4b95e2779a1704322a8d57cb8c29b\r\n",
      "  Stored in directory: /root/.cache/pip/wheels/8f/ab/cb/45ccc40522d3a1c41e1d2ad53b8f33a62f394011ec38cd71c6\r\n",
      "Successfully built wikipedia\r\n",
      "Installing collected packages: wikipedia\r\n",
      "Successfully installed wikipedia-1.4.0\r\n"
     ]
    }
   ],
   "source": [
    "!pip install wikipedia\n"
   ]
  },
  {
   "cell_type": "code",
   "execution_count": 31,
   "id": "c5058331",
   "metadata": {
    "execution": {
     "iopub.execute_input": "2025-07-05T20:01:55.661328Z",
     "iopub.status.busy": "2025-07-05T20:01:55.660881Z",
     "iopub.status.idle": "2025-07-05T20:01:56.178670Z",
     "shell.execute_reply": "2025-07-05T20:01:56.177587Z"
    },
    "papermill": {
     "duration": 0.536274,
     "end_time": "2025-07-05T20:01:56.180751",
     "exception": false,
     "start_time": "2025-07-05T20:01:55.644477",
     "status": "completed"
    },
    "tags": []
   },
   "outputs": [],
   "source": [
    "import wikipedia\n",
    "import re\n",
    "from tqdm.notebook import tqdm\n"
   ]
  },
  {
   "cell_type": "code",
   "execution_count": 32,
   "id": "98af99ce",
   "metadata": {
    "execution": {
     "iopub.execute_input": "2025-07-05T20:01:56.214062Z",
     "iopub.status.busy": "2025-07-05T20:01:56.213234Z",
     "iopub.status.idle": "2025-07-05T20:01:56.219086Z",
     "shell.execute_reply": "2025-07-05T20:01:56.218306Z"
    },
    "papermill": {
     "duration": 0.023596,
     "end_time": "2025-07-05T20:01:56.220605",
     "exception": false,
     "start_time": "2025-07-05T20:01:56.197009",
     "status": "completed"
    },
    "tags": []
   },
   "outputs": [],
   "source": [
    "def get_wikipedia_page_name(raw_name):\n",
    "    try:\n",
    "        names = wikipedia.search(raw_name)\n",
    "        if len(names) == 0:\n",
    "            return ''\n",
    "        else:\n",
    "            return names[0]\n",
    "    except Exception:\n",
    "        return ''\n"
   ]
  },
  {
   "cell_type": "code",
   "execution_count": 33,
   "id": "f9185b9f",
   "metadata": {
    "execution": {
     "iopub.execute_input": "2025-07-05T20:01:56.251986Z",
     "iopub.status.busy": "2025-07-05T20:01:56.251662Z",
     "iopub.status.idle": "2025-07-05T20:01:56.258569Z",
     "shell.execute_reply": "2025-07-05T20:01:56.257492Z"
    },
    "papermill": {
     "duration": 0.024497,
     "end_time": "2025-07-05T20:01:56.260109",
     "exception": false,
     "start_time": "2025-07-05T20:01:56.235612",
     "status": "completed"
    },
    "tags": []
   },
   "outputs": [],
   "source": [
    "def get_movie_plot(page_name):\n",
    "    try:\n",
    "        try:\n",
    "            movie_page_content = str(wikipedia.page(page_name, auto_suggest=False).content)\n",
    "        except wikipedia.DisambiguationError as e:\n",
    "            for option in e.options:\n",
    "                if 'film' in option.lower():\n",
    "                    movie_page_content = str(wikipedia.page(option, auto_suggest=False).content)\n",
    "                    break\n",
    "            else:\n",
    "                return ''\n",
    "        except (wikipedia.PageError, KeyError):\n",
    "            return ''\n",
    "        # Try to extract the \"Plot\" section with various patterns\n",
    "        match = re.search(r\"==\\s*Plot\\s*==(.+?)(==|$)\", movie_page_content, re.DOTALL)\n",
    "        if match:\n",
    "            return match.group(1).strip()\n",
    "        else:\n",
    "            # If no plot section, return the first 500 characters of the page as a fallback\n",
    "            return movie_page_content[:500]\n",
    "    except Exception:\n",
    "        return ''\n"
   ]
  },
  {
   "cell_type": "code",
   "execution_count": 34,
   "id": "9634eb85",
   "metadata": {
    "execution": {
     "iopub.execute_input": "2025-07-05T20:01:56.292243Z",
     "iopub.status.busy": "2025-07-05T20:01:56.290874Z",
     "iopub.status.idle": "2025-07-05T20:23:50.778281Z",
     "shell.execute_reply": "2025-07-05T20:23:50.777099Z"
    },
    "papermill": {
     "duration": 1314.505728,
     "end_time": "2025-07-05T20:23:50.780817",
     "exception": false,
     "start_time": "2025-07-05T20:01:56.275089",
     "status": "completed"
    },
    "tags": []
   },
   "outputs": [
    {
     "data": {
      "application/vnd.jupyter.widget-view+json": {
       "model_id": "4b491c43972c479785eceebc184ee00c",
       "version_major": 2,
       "version_minor": 0
      },
      "text/plain": [
       "  0%|          | 0/3883 [00:00<?, ?it/s]"
      ]
     },
     "metadata": {},
     "output_type": "display_data"
    }
   ],
   "source": [
    "# We use 'Title' as the movie title column (from movies_features)\n",
    "tqdm.pandas()  # for progress bar\n",
    "\n",
    "movies_features['wikipedia_page_name'] = movies_features['Title'].progress_apply(get_wikipedia_page_name)\n"
   ]
  },
  {
   "cell_type": "code",
   "execution_count": 35,
   "id": "19d12856",
   "metadata": {
    "execution": {
     "iopub.execute_input": "2025-07-05T20:23:50.819230Z",
     "iopub.status.busy": "2025-07-05T20:23:50.818826Z",
     "iopub.status.idle": "2025-07-05T21:02:45.830546Z",
     "shell.execute_reply": "2025-07-05T21:02:45.829531Z"
    },
    "papermill": {
     "duration": 2335.032903,
     "end_time": "2025-07-05T21:02:45.832164",
     "exception": false,
     "start_time": "2025-07-05T20:23:50.799261",
     "status": "completed"
    },
    "tags": []
   },
   "outputs": [
    {
     "data": {
      "application/vnd.jupyter.widget-view+json": {
       "model_id": "78eb8850890644df88ead28b29f6ebe0",
       "version_major": 2,
       "version_minor": 0
      },
      "text/plain": [
       "  0%|          | 0/3883 [00:00<?, ?it/s]"
      ]
     },
     "metadata": {},
     "output_type": "display_data"
    },
    {
     "name": "stderr",
     "output_type": "stream",
     "text": [
      "/usr/local/lib/python3.11/dist-packages/wikipedia/wikipedia.py:389: GuessedAtParserWarning: No parser was explicitly specified, so I'm using the best available HTML parser for this system (\"lxml\"). This usually isn't a problem, but if you run this code on another system, or in a different virtual environment, it may use a different parser and behave differently.\n",
      "\n",
      "The code that caused this warning is on line 389 of the file /usr/local/lib/python3.11/dist-packages/wikipedia/wikipedia.py. To get rid of this warning, pass the additional argument 'features=\"lxml\"' to the BeautifulSoup constructor.\n",
      "\n",
      "  lis = BeautifulSoup(html).find_all('li')\n"
     ]
    }
   ],
   "source": [
    "movies_features['movie_plot'] = movies_features['wikipedia_page_name'].progress_apply(get_movie_plot)\n"
   ]
  },
  {
   "cell_type": "code",
   "execution_count": 36,
   "id": "3b7be3de",
   "metadata": {
    "execution": {
     "iopub.execute_input": "2025-07-05T21:02:45.867255Z",
     "iopub.status.busy": "2025-07-05T21:02:45.866274Z",
     "iopub.status.idle": "2025-07-05T21:02:45.882178Z",
     "shell.execute_reply": "2025-07-05T21:02:45.881361Z"
    },
    "papermill": {
     "duration": 0.03477,
     "end_time": "2025-07-05T21:02:45.883823",
     "exception": false,
     "start_time": "2025-07-05T21:02:45.849053",
     "status": "completed"
    },
    "tags": []
   },
   "outputs": [
    {
     "name": "stdout",
     "output_type": "stream",
     "text": [
      "There are 0 NaN movie plots\n"
     ]
    },
    {
     "data": {
      "text/html": [
       "<div>\n",
       "<style scoped>\n",
       "    .dataframe tbody tr th:only-of-type {\n",
       "        vertical-align: middle;\n",
       "    }\n",
       "\n",
       "    .dataframe tbody tr th {\n",
       "        vertical-align: top;\n",
       "    }\n",
       "\n",
       "    .dataframe thead th {\n",
       "        text-align: right;\n",
       "    }\n",
       "</style>\n",
       "<table border=\"1\" class=\"dataframe\">\n",
       "  <thead>\n",
       "    <tr style=\"text-align: right;\">\n",
       "      <th></th>\n",
       "      <th>Title</th>\n",
       "      <th>movie_plot</th>\n",
       "    </tr>\n",
       "  </thead>\n",
       "  <tbody>\n",
       "    <tr>\n",
       "      <th>0</th>\n",
       "      <td>Toy Story (1995)</td>\n",
       "      <td>A group of sentient toys, who pretend to be li...</td>\n",
       "    </tr>\n",
       "    <tr>\n",
       "      <th>1</th>\n",
       "      <td>Jumanji (1995)</td>\n",
       "      <td>In 1969, Alan Parrish lives in Brantford, New ...</td>\n",
       "    </tr>\n",
       "    <tr>\n",
       "      <th>2</th>\n",
       "      <td>Grumpier Old Men (1995)</td>\n",
       "      <td>The feud between Max and John has cooled and t...</td>\n",
       "    </tr>\n",
       "    <tr>\n",
       "      <th>3</th>\n",
       "      <td>Waiting to Exhale (1995)</td>\n",
       "      <td>Four friends (Savannah, Robin, Bernadine, and ...</td>\n",
       "    </tr>\n",
       "    <tr>\n",
       "      <th>4</th>\n",
       "      <td>Father of the Bride Part II (1995)</td>\n",
       "      <td>Four years after the events of the first film,...</td>\n",
       "    </tr>\n",
       "  </tbody>\n",
       "</table>\n",
       "</div>"
      ],
      "text/plain": [
       "                                Title  \\\n",
       "0                    Toy Story (1995)   \n",
       "1                      Jumanji (1995)   \n",
       "2             Grumpier Old Men (1995)   \n",
       "3            Waiting to Exhale (1995)   \n",
       "4  Father of the Bride Part II (1995)   \n",
       "\n",
       "                                          movie_plot  \n",
       "0  A group of sentient toys, who pretend to be li...  \n",
       "1  In 1969, Alan Parrish lives in Brantford, New ...  \n",
       "2  The feud between Max and John has cooled and t...  \n",
       "3  Four friends (Savannah, Robin, Bernadine, and ...  \n",
       "4  Four years after the events of the first film,...  "
      ]
     },
     "execution_count": 36,
     "metadata": {},
     "output_type": "execute_result"
    }
   ],
   "source": [
    "print(f'There are {movies_features[\"movie_plot\"].isna().sum()} NaN movie plots')\n",
    "movies_features[['Title', 'movie_plot']].head()\n"
   ]
  },
  {
   "cell_type": "code",
   "execution_count": 37,
   "id": "3ab737b1",
   "metadata": {
    "execution": {
     "iopub.execute_input": "2025-07-05T21:02:45.918671Z",
     "iopub.status.busy": "2025-07-05T21:02:45.918249Z",
     "iopub.status.idle": "2025-07-05T21:02:46.341297Z",
     "shell.execute_reply": "2025-07-05T21:02:46.340102Z"
    },
    "papermill": {
     "duration": 0.442664,
     "end_time": "2025-07-05T21:02:46.343150",
     "exception": false,
     "start_time": "2025-07-05T21:02:45.900486",
     "status": "completed"
    },
    "tags": []
   },
   "outputs": [
    {
     "name": "stdout",
     "output_type": "stream",
     "text": [
      "Movies with plot summaries: 3829\n",
      "Ratings with plots: 992665\n"
     ]
    }
   ],
   "source": [
    "# Remove movies without plot summaries (empty string or NaN)\n",
    "movies_with_plots = movies_features[movies_features['movie_plot'].notna() & (movies_features['movie_plot'] != '')]\n",
    "movie_ids_with_plots = set(movies_with_plots['MovieID'])\n",
    "\n",
    "# Filter ratings accordingly (assuming you merged features into ratings_with_features)\n",
    "ratings_with_plots = ratings_with_features[ratings_with_features['MovieID'].isin(movie_ids_with_plots)]\n",
    "\n",
    "print(\"Movies with plot summaries:\", len(movies_with_plots))\n",
    "print(\"Ratings with plots:\", len(ratings_with_plots))\n"
   ]
  },
  {
   "cell_type": "markdown",
   "id": "d08014ed",
   "metadata": {
    "papermill": {
     "duration": 0.015646,
     "end_time": "2025-07-05T21:02:46.374314",
     "exception": false,
     "start_time": "2025-07-05T21:02:46.358668",
     "status": "completed"
    },
    "tags": []
   },
   "source": [
    "Data Exploration:\n",
    "\n",
    "Loaded and inspected the MovieLens 1M dataset, including user, movie, and ratings tables.\n",
    "\n",
    "Analyzed dataset statistics: number of unique users (6,040), movies (approximately 3,900), and ratings (over 1 million).\n",
    "\n",
    "Explored distributions of ratings, user activity, movie popularity, age groups, and gender.\n",
    "\n",
    "Visualized key characteristics such as the skewed positive rating distribution, the concentration of ratings by age group, and genre preferences across demographic segments.\n",
    "\n",
    "Feature Engineering:\n",
    "\n",
    "Genre One-Hot Encoding: Transformed the Genres field from a pipe-separated string (e.g., \"Action|Comedy\") into a binary vector for each genre, enabling models to recognize and utilize genre information for each movie.\n",
    "\n",
    "Year Extraction: Parsed the movie release year from the movie title, creating a new Year feature for temporal analysis and potential modeling.\n",
    "\n",
    "Wikipedia Plot Summaries: Integrated an external data source by programmatically retrieving movie plot summaries from Wikipedia for each movie, laying the groundwork for advanced content-based recommendations. Movies without available plot summaries (due to missing Wikipedia information) and their associated ratings were subsequently removed to maintain dataset consistency."
   ]
  },
  {
   "cell_type": "code",
   "execution_count": null,
   "id": "12a8ddf6",
   "metadata": {
    "papermill": {
     "duration": 0.015259,
     "end_time": "2025-07-05T21:02:46.405155",
     "exception": false,
     "start_time": "2025-07-05T21:02:46.389896",
     "status": "completed"
    },
    "tags": []
   },
   "outputs": [],
   "source": []
  }
 ],
 "metadata": {
  "kaggle": {
   "accelerator": "none",
   "dataSources": [
    {
     "datasetId": 7741878,
     "sourceId": 12284434,
     "sourceType": "datasetVersion"
    }
   ],
   "dockerImageVersionId": 31040,
   "isGpuEnabled": false,
   "isInternetEnabled": true,
   "language": "python",
   "sourceType": "notebook"
  },
  "kernelspec": {
   "display_name": "Python 3",
   "language": "python",
   "name": "python3"
  },
  "language_info": {
   "codemirror_mode": {
    "name": "ipython",
    "version": 3
   },
   "file_extension": ".py",
   "mimetype": "text/x-python",
   "name": "python",
   "nbconvert_exporter": "python",
   "pygments_lexer": "ipython3",
   "version": "3.11.11"
  },
  "papermill": {
   "default_parameters": {},
   "duration": 3705.995484,
   "end_time": "2025-07-05T21:02:47.951570",
   "environment_variables": {},
   "exception": null,
   "input_path": "__notebook__.ipynb",
   "output_path": "__notebook__.ipynb",
   "parameters": {},
   "start_time": "2025-07-05T20:01:01.956086",
   "version": "2.6.0"
  },
  "widgets": {
   "application/vnd.jupyter.widget-state+json": {
    "state": {
     "00a45c08c3b14ba2bc592b5a4f02f812": {
      "model_module": "@jupyter-widgets/controls",
      "model_module_version": "2.0.0",
      "model_name": "FloatProgressModel",
      "state": {
       "_dom_classes": [],
       "_model_module": "@jupyter-widgets/controls",
       "_model_module_version": "2.0.0",
       "_model_name": "FloatProgressModel",
       "_view_count": null,
       "_view_module": "@jupyter-widgets/controls",
       "_view_module_version": "2.0.0",
       "_view_name": "ProgressView",
       "bar_style": "success",
       "description": "",
       "description_allow_html": false,
       "layout": "IPY_MODEL_7e0e7bd0db1b40a18367a98c5fa83f63",
       "max": 3883.0,
       "min": 0.0,
       "orientation": "horizontal",
       "style": "IPY_MODEL_5e9a24a6ecbc47b88ad13458d4123be3",
       "tabbable": null,
       "tooltip": null,
       "value": 3883.0
      }
     },
     "0f8a7d3dc16d4d7ba23512f1bd6b9a91": {
      "model_module": "@jupyter-widgets/base",
      "model_module_version": "2.0.0",
      "model_name": "LayoutModel",
      "state": {
       "_model_module": "@jupyter-widgets/base",
       "_model_module_version": "2.0.0",
       "_model_name": "LayoutModel",
       "_view_count": null,
       "_view_module": "@jupyter-widgets/base",
       "_view_module_version": "2.0.0",
       "_view_name": "LayoutView",
       "align_content": null,
       "align_items": null,
       "align_self": null,
       "border_bottom": null,
       "border_left": null,
       "border_right": null,
       "border_top": null,
       "bottom": null,
       "display": null,
       "flex": null,
       "flex_flow": null,
       "grid_area": null,
       "grid_auto_columns": null,
       "grid_auto_flow": null,
       "grid_auto_rows": null,
       "grid_column": null,
       "grid_gap": null,
       "grid_row": null,
       "grid_template_areas": null,
       "grid_template_columns": null,
       "grid_template_rows": null,
       "height": null,
       "justify_content": null,
       "justify_items": null,
       "left": null,
       "margin": null,
       "max_height": null,
       "max_width": null,
       "min_height": null,
       "min_width": null,
       "object_fit": null,
       "object_position": null,
       "order": null,
       "overflow": null,
       "padding": null,
       "right": null,
       "top": null,
       "visibility": null,
       "width": null
      }
     },
     "245a627ce38546d3a1fa7a9481a0bb83": {
      "model_module": "@jupyter-widgets/base",
      "model_module_version": "2.0.0",
      "model_name": "LayoutModel",
      "state": {
       "_model_module": "@jupyter-widgets/base",
       "_model_module_version": "2.0.0",
       "_model_name": "LayoutModel",
       "_view_count": null,
       "_view_module": "@jupyter-widgets/base",
       "_view_module_version": "2.0.0",
       "_view_name": "LayoutView",
       "align_content": null,
       "align_items": null,
       "align_self": null,
       "border_bottom": null,
       "border_left": null,
       "border_right": null,
       "border_top": null,
       "bottom": null,
       "display": null,
       "flex": null,
       "flex_flow": null,
       "grid_area": null,
       "grid_auto_columns": null,
       "grid_auto_flow": null,
       "grid_auto_rows": null,
       "grid_column": null,
       "grid_gap": null,
       "grid_row": null,
       "grid_template_areas": null,
       "grid_template_columns": null,
       "grid_template_rows": null,
       "height": null,
       "justify_content": null,
       "justify_items": null,
       "left": null,
       "margin": null,
       "max_height": null,
       "max_width": null,
       "min_height": null,
       "min_width": null,
       "object_fit": null,
       "object_position": null,
       "order": null,
       "overflow": null,
       "padding": null,
       "right": null,
       "top": null,
       "visibility": null,
       "width": null
      }
     },
     "300390d51171411fad7d1e942f72b98a": {
      "model_module": "@jupyter-widgets/base",
      "model_module_version": "2.0.0",
      "model_name": "LayoutModel",
      "state": {
       "_model_module": "@jupyter-widgets/base",
       "_model_module_version": "2.0.0",
       "_model_name": "LayoutModel",
       "_view_count": null,
       "_view_module": "@jupyter-widgets/base",
       "_view_module_version": "2.0.0",
       "_view_name": "LayoutView",
       "align_content": null,
       "align_items": null,
       "align_self": null,
       "border_bottom": null,
       "border_left": null,
       "border_right": null,
       "border_top": null,
       "bottom": null,
       "display": null,
       "flex": null,
       "flex_flow": null,
       "grid_area": null,
       "grid_auto_columns": null,
       "grid_auto_flow": null,
       "grid_auto_rows": null,
       "grid_column": null,
       "grid_gap": null,
       "grid_row": null,
       "grid_template_areas": null,
       "grid_template_columns": null,
       "grid_template_rows": null,
       "height": null,
       "justify_content": null,
       "justify_items": null,
       "left": null,
       "margin": null,
       "max_height": null,
       "max_width": null,
       "min_height": null,
       "min_width": null,
       "object_fit": null,
       "object_position": null,
       "order": null,
       "overflow": null,
       "padding": null,
       "right": null,
       "top": null,
       "visibility": null,
       "width": null
      }
     },
     "37f9979c191b4e63a0f73761f4ca25e7": {
      "model_module": "@jupyter-widgets/base",
      "model_module_version": "2.0.0",
      "model_name": "LayoutModel",
      "state": {
       "_model_module": "@jupyter-widgets/base",
       "_model_module_version": "2.0.0",
       "_model_name": "LayoutModel",
       "_view_count": null,
       "_view_module": "@jupyter-widgets/base",
       "_view_module_version": "2.0.0",
       "_view_name": "LayoutView",
       "align_content": null,
       "align_items": null,
       "align_self": null,
       "border_bottom": null,
       "border_left": null,
       "border_right": null,
       "border_top": null,
       "bottom": null,
       "display": null,
       "flex": null,
       "flex_flow": null,
       "grid_area": null,
       "grid_auto_columns": null,
       "grid_auto_flow": null,
       "grid_auto_rows": null,
       "grid_column": null,
       "grid_gap": null,
       "grid_row": null,
       "grid_template_areas": null,
       "grid_template_columns": null,
       "grid_template_rows": null,
       "height": null,
       "justify_content": null,
       "justify_items": null,
       "left": null,
       "margin": null,
       "max_height": null,
       "max_width": null,
       "min_height": null,
       "min_width": null,
       "object_fit": null,
       "object_position": null,
       "order": null,
       "overflow": null,
       "padding": null,
       "right": null,
       "top": null,
       "visibility": null,
       "width": null
      }
     },
     "4b491c43972c479785eceebc184ee00c": {
      "model_module": "@jupyter-widgets/controls",
      "model_module_version": "2.0.0",
      "model_name": "HBoxModel",
      "state": {
       "_dom_classes": [],
       "_model_module": "@jupyter-widgets/controls",
       "_model_module_version": "2.0.0",
       "_model_name": "HBoxModel",
       "_view_count": null,
       "_view_module": "@jupyter-widgets/controls",
       "_view_module_version": "2.0.0",
       "_view_name": "HBoxView",
       "box_style": "",
       "children": [
        "IPY_MODEL_646bf020875c491aaa499492ac90b4b5",
        "IPY_MODEL_c73325ba761845b3ae806f55fc73e6f0",
        "IPY_MODEL_be66464b256c4420af0ed81682d9de59"
       ],
       "layout": "IPY_MODEL_856654909abb4758a416921e41c554d4",
       "tabbable": null,
       "tooltip": null
      }
     },
     "4d916782aea14b9cba3b3d87514610ce": {
      "model_module": "@jupyter-widgets/controls",
      "model_module_version": "2.0.0",
      "model_name": "HTMLStyleModel",
      "state": {
       "_model_module": "@jupyter-widgets/controls",
       "_model_module_version": "2.0.0",
       "_model_name": "HTMLStyleModel",
       "_view_count": null,
       "_view_module": "@jupyter-widgets/base",
       "_view_module_version": "2.0.0",
       "_view_name": "StyleView",
       "background": null,
       "description_width": "",
       "font_size": null,
       "text_color": null
      }
     },
     "5e9a24a6ecbc47b88ad13458d4123be3": {
      "model_module": "@jupyter-widgets/controls",
      "model_module_version": "2.0.0",
      "model_name": "ProgressStyleModel",
      "state": {
       "_model_module": "@jupyter-widgets/controls",
       "_model_module_version": "2.0.0",
       "_model_name": "ProgressStyleModel",
       "_view_count": null,
       "_view_module": "@jupyter-widgets/base",
       "_view_module_version": "2.0.0",
       "_view_name": "StyleView",
       "bar_color": null,
       "description_width": ""
      }
     },
     "646bf020875c491aaa499492ac90b4b5": {
      "model_module": "@jupyter-widgets/controls",
      "model_module_version": "2.0.0",
      "model_name": "HTMLModel",
      "state": {
       "_dom_classes": [],
       "_model_module": "@jupyter-widgets/controls",
       "_model_module_version": "2.0.0",
       "_model_name": "HTMLModel",
       "_view_count": null,
       "_view_module": "@jupyter-widgets/controls",
       "_view_module_version": "2.0.0",
       "_view_name": "HTMLView",
       "description": "",
       "description_allow_html": false,
       "layout": "IPY_MODEL_37f9979c191b4e63a0f73761f4ca25e7",
       "placeholder": "​",
       "style": "IPY_MODEL_e223bb78fe2245cea9ab22397bd3533a",
       "tabbable": null,
       "tooltip": null,
       "value": "100%"
      }
     },
     "6e3b362fd302463aa421f6d30fcc6f8d": {
      "model_module": "@jupyter-widgets/base",
      "model_module_version": "2.0.0",
      "model_name": "LayoutModel",
      "state": {
       "_model_module": "@jupyter-widgets/base",
       "_model_module_version": "2.0.0",
       "_model_name": "LayoutModel",
       "_view_count": null,
       "_view_module": "@jupyter-widgets/base",
       "_view_module_version": "2.0.0",
       "_view_name": "LayoutView",
       "align_content": null,
       "align_items": null,
       "align_self": null,
       "border_bottom": null,
       "border_left": null,
       "border_right": null,
       "border_top": null,
       "bottom": null,
       "display": null,
       "flex": null,
       "flex_flow": null,
       "grid_area": null,
       "grid_auto_columns": null,
       "grid_auto_flow": null,
       "grid_auto_rows": null,
       "grid_column": null,
       "grid_gap": null,
       "grid_row": null,
       "grid_template_areas": null,
       "grid_template_columns": null,
       "grid_template_rows": null,
       "height": null,
       "justify_content": null,
       "justify_items": null,
       "left": null,
       "margin": null,
       "max_height": null,
       "max_width": null,
       "min_height": null,
       "min_width": null,
       "object_fit": null,
       "object_position": null,
       "order": null,
       "overflow": null,
       "padding": null,
       "right": null,
       "top": null,
       "visibility": null,
       "width": null
      }
     },
     "78eb8850890644df88ead28b29f6ebe0": {
      "model_module": "@jupyter-widgets/controls",
      "model_module_version": "2.0.0",
      "model_name": "HBoxModel",
      "state": {
       "_dom_classes": [],
       "_model_module": "@jupyter-widgets/controls",
       "_model_module_version": "2.0.0",
       "_model_name": "HBoxModel",
       "_view_count": null,
       "_view_module": "@jupyter-widgets/controls",
       "_view_module_version": "2.0.0",
       "_view_name": "HBoxView",
       "box_style": "",
       "children": [
        "IPY_MODEL_a4fc2e2d4f744266937ba5adee25a011",
        "IPY_MODEL_00a45c08c3b14ba2bc592b5a4f02f812",
        "IPY_MODEL_a69f087c34e14e8f956696bd04b8ccc6"
       ],
       "layout": "IPY_MODEL_91662605d1974cd09deb845503061174",
       "tabbable": null,
       "tooltip": null
      }
     },
     "7c0a6325cff2458b9494c09b4f5bf2fd": {
      "model_module": "@jupyter-widgets/controls",
      "model_module_version": "2.0.0",
      "model_name": "ProgressStyleModel",
      "state": {
       "_model_module": "@jupyter-widgets/controls",
       "_model_module_version": "2.0.0",
       "_model_name": "ProgressStyleModel",
       "_view_count": null,
       "_view_module": "@jupyter-widgets/base",
       "_view_module_version": "2.0.0",
       "_view_name": "StyleView",
       "bar_color": null,
       "description_width": ""
      }
     },
     "7e0e7bd0db1b40a18367a98c5fa83f63": {
      "model_module": "@jupyter-widgets/base",
      "model_module_version": "2.0.0",
      "model_name": "LayoutModel",
      "state": {
       "_model_module": "@jupyter-widgets/base",
       "_model_module_version": "2.0.0",
       "_model_name": "LayoutModel",
       "_view_count": null,
       "_view_module": "@jupyter-widgets/base",
       "_view_module_version": "2.0.0",
       "_view_name": "LayoutView",
       "align_content": null,
       "align_items": null,
       "align_self": null,
       "border_bottom": null,
       "border_left": null,
       "border_right": null,
       "border_top": null,
       "bottom": null,
       "display": null,
       "flex": null,
       "flex_flow": null,
       "grid_area": null,
       "grid_auto_columns": null,
       "grid_auto_flow": null,
       "grid_auto_rows": null,
       "grid_column": null,
       "grid_gap": null,
       "grid_row": null,
       "grid_template_areas": null,
       "grid_template_columns": null,
       "grid_template_rows": null,
       "height": null,
       "justify_content": null,
       "justify_items": null,
       "left": null,
       "margin": null,
       "max_height": null,
       "max_width": null,
       "min_height": null,
       "min_width": null,
       "object_fit": null,
       "object_position": null,
       "order": null,
       "overflow": null,
       "padding": null,
       "right": null,
       "top": null,
       "visibility": null,
       "width": null
      }
     },
     "856654909abb4758a416921e41c554d4": {
      "model_module": "@jupyter-widgets/base",
      "model_module_version": "2.0.0",
      "model_name": "LayoutModel",
      "state": {
       "_model_module": "@jupyter-widgets/base",
       "_model_module_version": "2.0.0",
       "_model_name": "LayoutModel",
       "_view_count": null,
       "_view_module": "@jupyter-widgets/base",
       "_view_module_version": "2.0.0",
       "_view_name": "LayoutView",
       "align_content": null,
       "align_items": null,
       "align_self": null,
       "border_bottom": null,
       "border_left": null,
       "border_right": null,
       "border_top": null,
       "bottom": null,
       "display": null,
       "flex": null,
       "flex_flow": null,
       "grid_area": null,
       "grid_auto_columns": null,
       "grid_auto_flow": null,
       "grid_auto_rows": null,
       "grid_column": null,
       "grid_gap": null,
       "grid_row": null,
       "grid_template_areas": null,
       "grid_template_columns": null,
       "grid_template_rows": null,
       "height": null,
       "justify_content": null,
       "justify_items": null,
       "left": null,
       "margin": null,
       "max_height": null,
       "max_width": null,
       "min_height": null,
       "min_width": null,
       "object_fit": null,
       "object_position": null,
       "order": null,
       "overflow": null,
       "padding": null,
       "right": null,
       "top": null,
       "visibility": null,
       "width": null
      }
     },
     "91662605d1974cd09deb845503061174": {
      "model_module": "@jupyter-widgets/base",
      "model_module_version": "2.0.0",
      "model_name": "LayoutModel",
      "state": {
       "_model_module": "@jupyter-widgets/base",
       "_model_module_version": "2.0.0",
       "_model_name": "LayoutModel",
       "_view_count": null,
       "_view_module": "@jupyter-widgets/base",
       "_view_module_version": "2.0.0",
       "_view_name": "LayoutView",
       "align_content": null,
       "align_items": null,
       "align_self": null,
       "border_bottom": null,
       "border_left": null,
       "border_right": null,
       "border_top": null,
       "bottom": null,
       "display": null,
       "flex": null,
       "flex_flow": null,
       "grid_area": null,
       "grid_auto_columns": null,
       "grid_auto_flow": null,
       "grid_auto_rows": null,
       "grid_column": null,
       "grid_gap": null,
       "grid_row": null,
       "grid_template_areas": null,
       "grid_template_columns": null,
       "grid_template_rows": null,
       "height": null,
       "justify_content": null,
       "justify_items": null,
       "left": null,
       "margin": null,
       "max_height": null,
       "max_width": null,
       "min_height": null,
       "min_width": null,
       "object_fit": null,
       "object_position": null,
       "order": null,
       "overflow": null,
       "padding": null,
       "right": null,
       "top": null,
       "visibility": null,
       "width": null
      }
     },
     "9bd0801bd4354369ade85d7315303600": {
      "model_module": "@jupyter-widgets/controls",
      "model_module_version": "2.0.0",
      "model_name": "HTMLStyleModel",
      "state": {
       "_model_module": "@jupyter-widgets/controls",
       "_model_module_version": "2.0.0",
       "_model_name": "HTMLStyleModel",
       "_view_count": null,
       "_view_module": "@jupyter-widgets/base",
       "_view_module_version": "2.0.0",
       "_view_name": "StyleView",
       "background": null,
       "description_width": "",
       "font_size": null,
       "text_color": null
      }
     },
     "a4fc2e2d4f744266937ba5adee25a011": {
      "model_module": "@jupyter-widgets/controls",
      "model_module_version": "2.0.0",
      "model_name": "HTMLModel",
      "state": {
       "_dom_classes": [],
       "_model_module": "@jupyter-widgets/controls",
       "_model_module_version": "2.0.0",
       "_model_name": "HTMLModel",
       "_view_count": null,
       "_view_module": "@jupyter-widgets/controls",
       "_view_module_version": "2.0.0",
       "_view_name": "HTMLView",
       "description": "",
       "description_allow_html": false,
       "layout": "IPY_MODEL_245a627ce38546d3a1fa7a9481a0bb83",
       "placeholder": "​",
       "style": "IPY_MODEL_b965bc2b5f994e6e8a1a1765ceaa0fd3",
       "tabbable": null,
       "tooltip": null,
       "value": "100%"
      }
     },
     "a69f087c34e14e8f956696bd04b8ccc6": {
      "model_module": "@jupyter-widgets/controls",
      "model_module_version": "2.0.0",
      "model_name": "HTMLModel",
      "state": {
       "_dom_classes": [],
       "_model_module": "@jupyter-widgets/controls",
       "_model_module_version": "2.0.0",
       "_model_name": "HTMLModel",
       "_view_count": null,
       "_view_module": "@jupyter-widgets/controls",
       "_view_module_version": "2.0.0",
       "_view_name": "HTMLView",
       "description": "",
       "description_allow_html": false,
       "layout": "IPY_MODEL_300390d51171411fad7d1e942f72b98a",
       "placeholder": "​",
       "style": "IPY_MODEL_9bd0801bd4354369ade85d7315303600",
       "tabbable": null,
       "tooltip": null,
       "value": " 3883/3883 [38:55&lt;00:00,  1.47it/s]"
      }
     },
     "b965bc2b5f994e6e8a1a1765ceaa0fd3": {
      "model_module": "@jupyter-widgets/controls",
      "model_module_version": "2.0.0",
      "model_name": "HTMLStyleModel",
      "state": {
       "_model_module": "@jupyter-widgets/controls",
       "_model_module_version": "2.0.0",
       "_model_name": "HTMLStyleModel",
       "_view_count": null,
       "_view_module": "@jupyter-widgets/base",
       "_view_module_version": "2.0.0",
       "_view_name": "StyleView",
       "background": null,
       "description_width": "",
       "font_size": null,
       "text_color": null
      }
     },
     "be66464b256c4420af0ed81682d9de59": {
      "model_module": "@jupyter-widgets/controls",
      "model_module_version": "2.0.0",
      "model_name": "HTMLModel",
      "state": {
       "_dom_classes": [],
       "_model_module": "@jupyter-widgets/controls",
       "_model_module_version": "2.0.0",
       "_model_name": "HTMLModel",
       "_view_count": null,
       "_view_module": "@jupyter-widgets/controls",
       "_view_module_version": "2.0.0",
       "_view_name": "HTMLView",
       "description": "",
       "description_allow_html": false,
       "layout": "IPY_MODEL_6e3b362fd302463aa421f6d30fcc6f8d",
       "placeholder": "​",
       "style": "IPY_MODEL_4d916782aea14b9cba3b3d87514610ce",
       "tabbable": null,
       "tooltip": null,
       "value": " 3883/3883 [21:54&lt;00:00,  2.56it/s]"
      }
     },
     "c73325ba761845b3ae806f55fc73e6f0": {
      "model_module": "@jupyter-widgets/controls",
      "model_module_version": "2.0.0",
      "model_name": "FloatProgressModel",
      "state": {
       "_dom_classes": [],
       "_model_module": "@jupyter-widgets/controls",
       "_model_module_version": "2.0.0",
       "_model_name": "FloatProgressModel",
       "_view_count": null,
       "_view_module": "@jupyter-widgets/controls",
       "_view_module_version": "2.0.0",
       "_view_name": "ProgressView",
       "bar_style": "success",
       "description": "",
       "description_allow_html": false,
       "layout": "IPY_MODEL_0f8a7d3dc16d4d7ba23512f1bd6b9a91",
       "max": 3883.0,
       "min": 0.0,
       "orientation": "horizontal",
       "style": "IPY_MODEL_7c0a6325cff2458b9494c09b4f5bf2fd",
       "tabbable": null,
       "tooltip": null,
       "value": 3883.0
      }
     },
     "e223bb78fe2245cea9ab22397bd3533a": {
      "model_module": "@jupyter-widgets/controls",
      "model_module_version": "2.0.0",
      "model_name": "HTMLStyleModel",
      "state": {
       "_model_module": "@jupyter-widgets/controls",
       "_model_module_version": "2.0.0",
       "_model_name": "HTMLStyleModel",
       "_view_count": null,
       "_view_module": "@jupyter-widgets/base",
       "_view_module_version": "2.0.0",
       "_view_name": "StyleView",
       "background": null,
       "description_width": "",
       "font_size": null,
       "text_color": null
      }
     }
    },
    "version_major": 2,
    "version_minor": 0
   }
  }
 },
 "nbformat": 4,
 "nbformat_minor": 5
}
